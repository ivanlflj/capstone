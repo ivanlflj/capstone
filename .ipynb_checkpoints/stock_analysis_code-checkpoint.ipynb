{
 "cells": [
  {
   "cell_type": "markdown",
   "metadata": {},
   "source": [
    "# Stock Analysis project\n",
    "## Data gathering\n",
    "The data was gathered from the Bovespa website in the historical quotes [link](http://www.bmfbovespa.com.br/pt_br/servicos/market-data/historico/mercado-a-vista/cotacoes-historicas/). The instructions to interpret the data are in the same website."
   ]
  },
  {
   "cell_type": "code",
   "execution_count": 1,
   "metadata": {
    "collapsed": false
   },
   "outputs": [
    {
     "data": {
      "text/html": [
       "<div>\n",
       "<table border=\"1\" class=\"dataframe\">\n",
       "  <thead>\n",
       "    <tr style=\"text-align: right;\">\n",
       "      <th></th>\n",
       "      <th>close</th>\n",
       "      <th>day</th>\n",
       "      <th>high</th>\n",
       "      <th>low</th>\n",
       "      <th>month</th>\n",
       "      <th>open</th>\n",
       "      <th>volume</th>\n",
       "      <th>year</th>\n",
       "    </tr>\n",
       "  </thead>\n",
       "  <tbody>\n",
       "    <tr>\n",
       "      <th>count</th>\n",
       "      <td>491.000000</td>\n",
       "      <td>491.000000</td>\n",
       "      <td>491.000000</td>\n",
       "      <td>491.000000</td>\n",
       "      <td>491.000000</td>\n",
       "      <td>491.000000</td>\n",
       "      <td>4.910000e+02</td>\n",
       "      <td>491.000000</td>\n",
       "    </tr>\n",
       "    <tr>\n",
       "      <th>mean</th>\n",
       "      <td>10.555336</td>\n",
       "      <td>15.794297</td>\n",
       "      <td>10.696049</td>\n",
       "      <td>10.380041</td>\n",
       "      <td>6.460285</td>\n",
       "      <td>10.561772</td>\n",
       "      <td>4.671354e+06</td>\n",
       "      <td>2006.498982</td>\n",
       "    </tr>\n",
       "    <tr>\n",
       "      <th>std</th>\n",
       "      <td>1.497608</td>\n",
       "      <td>8.765217</td>\n",
       "      <td>1.512402</td>\n",
       "      <td>1.470663</td>\n",
       "      <td>3.401673</td>\n",
       "      <td>1.497319</td>\n",
       "      <td>2.570326e+06</td>\n",
       "      <td>0.500509</td>\n",
       "    </tr>\n",
       "    <tr>\n",
       "      <th>min</th>\n",
       "      <td>7.400000</td>\n",
       "      <td>1.000000</td>\n",
       "      <td>7.450000</td>\n",
       "      <td>7.260000</td>\n",
       "      <td>1.000000</td>\n",
       "      <td>7.300000</td>\n",
       "      <td>8.920000e+05</td>\n",
       "      <td>2006.000000</td>\n",
       "    </tr>\n",
       "    <tr>\n",
       "      <th>25%</th>\n",
       "      <td>9.195000</td>\n",
       "      <td>8.000000</td>\n",
       "      <td>9.310000</td>\n",
       "      <td>9.090000</td>\n",
       "      <td>3.500000</td>\n",
       "      <td>9.200000</td>\n",
       "      <td>2.924250e+06</td>\n",
       "      <td>2006.000000</td>\n",
       "    </tr>\n",
       "    <tr>\n",
       "      <th>50%</th>\n",
       "      <td>10.500000</td>\n",
       "      <td>16.000000</td>\n",
       "      <td>10.670000</td>\n",
       "      <td>10.400000</td>\n",
       "      <td>6.000000</td>\n",
       "      <td>10.520000</td>\n",
       "      <td>4.109300e+06</td>\n",
       "      <td>2006.000000</td>\n",
       "    </tr>\n",
       "    <tr>\n",
       "      <th>75%</th>\n",
       "      <td>11.910000</td>\n",
       "      <td>23.000000</td>\n",
       "      <td>12.070000</td>\n",
       "      <td>11.700000</td>\n",
       "      <td>9.000000</td>\n",
       "      <td>11.900000</td>\n",
       "      <td>5.536450e+06</td>\n",
       "      <td>2007.000000</td>\n",
       "    </tr>\n",
       "    <tr>\n",
       "      <th>max</th>\n",
       "      <td>13.850000</td>\n",
       "      <td>31.000000</td>\n",
       "      <td>13.940000</td>\n",
       "      <td>13.520000</td>\n",
       "      <td>12.000000</td>\n",
       "      <td>13.800000</td>\n",
       "      <td>2.481430e+07</td>\n",
       "      <td>2007.000000</td>\n",
       "    </tr>\n",
       "  </tbody>\n",
       "</table>\n",
       "</div>"
      ],
      "text/plain": [
       "            close         day        high         low       month        open  \\\n",
       "count  491.000000  491.000000  491.000000  491.000000  491.000000  491.000000   \n",
       "mean    10.555336   15.794297   10.696049   10.380041    6.460285   10.561772   \n",
       "std      1.497608    8.765217    1.512402    1.470663    3.401673    1.497319   \n",
       "min      7.400000    1.000000    7.450000    7.260000    1.000000    7.300000   \n",
       "25%      9.195000    8.000000    9.310000    9.090000    3.500000    9.200000   \n",
       "50%     10.500000   16.000000   10.670000   10.400000    6.000000   10.520000   \n",
       "75%     11.910000   23.000000   12.070000   11.700000    9.000000   11.900000   \n",
       "max     13.850000   31.000000   13.940000   13.520000   12.000000   13.800000   \n",
       "\n",
       "             volume         year  \n",
       "count  4.910000e+02   491.000000  \n",
       "mean   4.671354e+06  2006.498982  \n",
       "std    2.570326e+06     0.500509  \n",
       "min    8.920000e+05  2006.000000  \n",
       "25%    2.924250e+06  2006.000000  \n",
       "50%    4.109300e+06  2006.000000  \n",
       "75%    5.536450e+06  2007.000000  \n",
       "max    2.481430e+07  2007.000000  "
      ]
     },
     "execution_count": 1,
     "metadata": {},
     "output_type": "execute_result"
    }
   ],
   "source": [
    "%matplotlib inline\n",
    "\n",
    "# All imports\n",
    "import matplotlib\n",
    "import numpy as np\n",
    "import matplotlib.pyplot as plt\n",
    "import pandas as pd\n",
    "import datetime\n",
    "from sklearn.cross_validation import train_test_split\n",
    "from sklearn.decomposition import FastICA\n",
    "from sklearn.decomposition import PCA\n",
    "from sklearn.feature_selection import SelectKBest\n",
    "from sklearn.feature_selection import f_classif\n",
    "from sklearn.grid_search import GridSearchCV\n",
    "from sklearn.metrics import precision_score\n",
    "from sklearn.metrics import make_scorer\n",
    "from sklearn.svm import SVC\n",
    "from sklearn.neighbors import KNeighborsClassifier\n",
    "from sklearn.ensemble import AdaBoostClassifier\n",
    "from sklearn.ensemble import RandomForestClassifier\n",
    "\n",
    "# Constants\n",
    "RANDOM_SEED = 42\n",
    "\n",
    "# Data gathering for ITSA4\n",
    "paths = ['stock_price\\\\inputs\\\\COTAHIST_A2006.TXT','stock_price\\\\inputs\\\\COTAHIST_A2007.TXT',\n",
    "        'stock_price\\\\inputs\\\\COTAHIST_A2008.TXT','stock_price\\\\inputs\\\\COTAHIST_A2009.TXT',\n",
    "        'stock_price\\\\inputs\\\\COTAHIST_A2010.TXT','stock_price\\\\inputs\\\\COTAHIST_A2011.TXT',\n",
    "        'stock_price\\\\inputs\\\\COTAHIST_A2012.TXT','stock_price\\\\inputs\\\\COTAHIST_A2013.TXT',\n",
    "        'stock_price\\\\inputs\\\\COTAHIST_A2014.TXT','stock_price\\\\inputs\\\\COTAHIST_A2015.TXT']\n",
    "df = pd.DataFrame()\n",
    "for path in paths:\n",
    "    file = open(path,'r')\n",
    "    for line in file:\n",
    "        if (line[12:18] == 'ITSA4 '):\n",
    "            df = df.append({'year': int(line[2:6]),'month': int(line[6:8]),'day': int(line[8:10]),\n",
    "                            'open': int(line[56:69])/100.,'high': int(line[69:82])/100.,\n",
    "                            'low': int(line[82:95])/100.,'close': int(line[108:121])/100.,\n",
    "                            'volume': int(line[152:170])},ignore_index=True)\n",
    "    file.close\n",
    "df.describe()"
   ]
  },
  {
   "cell_type": "markdown",
   "metadata": {},
   "source": [
    "## Technical analysis\n",
    "The main data has already been gathered. Now it is time to use what is called technical analysis to improve the data we already have.\n",
    "\n",
    "The technical analysis consideres that the price movement of a stock reflects every thing that you need to know about the stock. The following image shows the analysis of a technical analist:\n",
    "\n",
    "![Analysis of a technical analist](http://www.liberatedstocktrader.com/wp-content/uploads/stock-market-analysis-sept-20-2010.jpg)\n",
    "\n",
    "To perform this analysis there is some indicators (calculated from the prizes) that are used for the behaviour prediction. We will use [Moving Averages](http://www.investopedia.com/terms/m/movingaverage.asp) for 5, 8, 21 and 50 periods.\n",
    "\n",
    "It is important to notice that we will only have the data for previous periods and not from our period. So to start we will make every date know about its 50 previous closing prices"
   ]
  },
  {
   "cell_type": "code",
   "execution_count": 2,
   "metadata": {
    "collapsed": false
   },
   "outputs": [
    {
     "data": {
      "text/plain": [
       "<matplotlib.collections.PathCollection at 0xb4cc390>"
      ]
     },
     "execution_count": 2,
     "metadata": {},
     "output_type": "execute_result"
    },
    {
     "data": {
      "image/png": "[encoded data removed]",
      "text/plain": [
       "<matplotlib.figure.Figure at 0xb347828>"
      ]
     },
     "metadata": {},
     "output_type": "display_data"
    }
   ],
   "source": [
    "# Knowing the past\n",
    "for i in range(1,50 + 1):\n",
    "    df['close'+str(i)] = -1\n",
    "    for j in range(50,len(df)):\n",
    "        df.loc[j,'close'+str(i)] = df.loc[j-i,'close']\n",
    "for i in range(1,50 + 1):\n",
    "    df['low'+str(i)] = -1\n",
    "    for j in range(50,len(df)):\n",
    "        df.loc[j,'low'+str(i)] = df.loc[j-i,'low']\n",
    "for i in range(1,50 + 1):\n",
    "    df['high'+str(i)] = -1\n",
    "    for j in range(50,len(df)):\n",
    "        df.loc[j,'high'+str(i)] = df.loc[j-i,'high']\n",
    "for i in range(1,50 + 1):\n",
    "    df['open'+str(i)] = -1\n",
    "    for j in range(50,len(df)):\n",
    "        df.loc[j,'open'+str(i)] = df.loc[j-i,'open']\n",
    "\n",
    "# Verify if the code worked\n",
    "plt.scatter(df.index.tolist(),df['close'].values,c='c')\n",
    "plt.scatter(df.index.tolist(),df['close50'].values)"
   ]
  },
  {
   "cell_type": "code",
   "execution_count": 3,
   "metadata": {
    "collapsed": false
   },
   "outputs": [
    {
     "data": {
      "text/plain": [
       "<matplotlib.collections.PathCollection at 0xc155cf8>"
      ]
     },
     "execution_count": 3,
     "metadata": {},
     "output_type": "execute_result"
    },
    {
     "data": {
      "image/png": "[encoded data removed]",
      "text/plain": [
       "<matplotlib.figure.Figure at 0xb431208>"
      ]
     },
     "metadata": {},
     "output_type": "display_data"
    }
   ],
   "source": [
    "# Create the moving averages\n",
    "for i in (5,8,21,50):\n",
    "    df['MA'+str(i)] = -1\n",
    "    for j in range(50,len(df)):\n",
    "        sum = 0\n",
    "        for k in range(1,i+1):\n",
    "            sum += df.loc[j,'close'+str(k)]\n",
    "        df.loc[j,'MA'+str(i)] = sum/i\n",
    "\n",
    "# Verify if the code worked\n",
    "plt.scatter(df.index.tolist(),df['close'].values,c='c')\n",
    "plt.scatter(df.index.tolist(),df['MA50'].values)"
   ]
  },
  {
   "cell_type": "markdown",
   "metadata": {},
   "source": [
    "We also want to know which day of the week it is. There is some studies that argue that a stock has a higher probability of moving up depending of the day of the week."
   ]
  },
  {
   "cell_type": "code",
   "execution_count": 4,
   "metadata": {
    "collapsed": false
   },
   "outputs": [],
   "source": [
    "df['week_day']=-1\n",
    "for i in range(len(df)):\n",
    "    df.loc[i,'week_day'] = datetime.datetime(int(df.loc[i,'year']), int(df.loc[i,'month']), int(df.loc[i,'day'])).weekday()\n",
    "# Just for information Monday to Sunday is 0 to 6"
   ]
  },
  {
   "cell_type": "markdown",
   "metadata": {},
   "source": [
    "The volume that we have are also from the last days. In the case of the volume we will gather only the volume for the last 5 days."
   ]
  },
  {
   "cell_type": "code",
   "execution_count": 5,
   "metadata": {
    "collapsed": false
   },
   "outputs": [
    {
     "data": {
      "text/plain": [
       "<matplotlib.collections.PathCollection at 0xc8e0e10>"
      ]
     },
     "execution_count": 5,
     "metadata": {},
     "output_type": "execute_result"
    },
    {
     "data": {
      "image/png": "[encoded data removed]",
      "text/plain": [
       "<matplotlib.figure.Figure at 0x43252e8>"
      ]
     },
     "metadata": {},
     "output_type": "display_data"
    }
   ],
   "source": [
    "for i in range(1,5 + 1):\n",
    "    df['volume'+str(i)] = -1\n",
    "    for j in range(5,len(df)):\n",
    "        df.loc[j,'volume'+str(i)] = df.loc[j-i,'volume']\n",
    "\n",
    "# Verify if the code worked\n",
    "plt.scatter(df.index.tolist(),df['volume'].values,c='c')\n",
    "plt.scatter(df.index.tolist(),df['volume5'].values)"
   ]
  },
  {
   "cell_type": "markdown",
   "metadata": {},
   "source": [
    "## Preparing the data to use\n",
    "Since the price of the stock varies alot, the important aspect here is the movement relative to the last price. So every price show be divided by the last price (close1) so we have the relative price of the movements until here.\n",
    "We will do the same for the volumes (volume1)."
   ]
  },
  {
   "cell_type": "code",
   "execution_count": 6,
   "metadata": {
    "collapsed": false
   },
   "outputs": [],
   "source": [
    "df.loc[:,'close'] = df.loc[:,'close']/df.loc[:,'close1']\n",
    "df.loc[:,'low'] = df.loc[:,'low']/df.loc[:,'close1']\n",
    "df.loc[:,'high'] = df.loc[:,'high']/df.loc[:,'close1']\n",
    "df.loc[:,'open'] = df.loc[:,'open']/df.loc[:,'close1']\n",
    "\n",
    "for i in range(2,50+1):\n",
    "    df.loc[:,'close'+str(i)] = df.loc[:,'close'+str(i)]/df.loc[:,'close1']\n",
    "    df.loc[:,'low'+str(i)] = df.loc[:,'low'+str(i)]/df.loc[:,'close1']\n",
    "    df.loc[:,'high'+str(i)] = df.loc[:,'high'+str(i)]/df.loc[:,'close1']\n",
    "    df.loc[:,'open'+str(i)] = df.loc[:,'open'+str(i)]/df.loc[:,'close1']\n",
    "    \n",
    "for i in (5,8,21,50):\n",
    "    df.loc[:, 'MA'+str(i)] = df.loc[:, 'MA'+str(i)]/df.loc[:,'close1']\n",
    "\n",
    "df.loc[:,'open1'] = df.loc[:,'open1']/df.loc[:,'close1']\n",
    "df.loc[:,'high1'] = df.loc[:,'high1']/df.loc[:,'close1']\n",
    "df.loc[:,'low1'] = df.loc[:,'low1']/df.loc[:,'close1']\n",
    "df.loc[:,'close1'] = df.loc[:,'close1']/df.loc[:,'close1']"
   ]
  },
  {
   "cell_type": "markdown",
   "metadata": {},
   "source": [
    "We will do the same for the volumes (volume1)."
   ]
  },
  {
   "cell_type": "code",
   "execution_count": 7,
   "metadata": {
    "collapsed": false
   },
   "outputs": [],
   "source": [
    "df.loc[:,'volume'] = df.loc[:,'volume']/df.loc[:,'volume1']\n",
    "\n",
    "for i in range(2,5+1):\n",
    "    df.loc[:,'volume'+str(i)] = df.loc[:,'volume'+str(i)]/df.loc[:,'volume1']\n",
    "    \n",
    "df.loc[:,'volume1'] = df.loc[:,'volume1']/df.loc[:,'volume1']"
   ]
  },
  {
   "cell_type": "markdown",
   "metadata": {},
   "source": [
    "## Clean the data\n",
    "Since the data is now read, we need to erase the 50 first days. They do not have all the indicators that we need for the analysis and it can bring some problems."
   ]
  },
  {
   "cell_type": "code",
   "execution_count": 8,
   "metadata": {
    "collapsed": false
   },
   "outputs": [
    {
     "data": {
      "text/html": [
       "<div>\n",
       "<table border=\"1\" class=\"dataframe\">\n",
       "  <thead>\n",
       "    <tr style=\"text-align: right;\">\n",
       "      <th></th>\n",
       "      <th>index</th>\n",
       "      <th>close</th>\n",
       "      <th>day</th>\n",
       "      <th>high</th>\n",
       "      <th>low</th>\n",
       "      <th>month</th>\n",
       "      <th>open</th>\n",
       "      <th>volume</th>\n",
       "      <th>year</th>\n",
       "      <th>close1</th>\n",
       "      <th>...</th>\n",
       "      <th>MA5</th>\n",
       "      <th>MA8</th>\n",
       "      <th>MA21</th>\n",
       "      <th>MA50</th>\n",
       "      <th>week_day</th>\n",
       "      <th>volume1</th>\n",
       "      <th>volume2</th>\n",
       "      <th>volume3</th>\n",
       "      <th>volume4</th>\n",
       "      <th>volume5</th>\n",
       "    </tr>\n",
       "  </thead>\n",
       "  <tbody>\n",
       "    <tr>\n",
       "      <th>count</th>\n",
       "      <td>441.00000</td>\n",
       "      <td>441.000000</td>\n",
       "      <td>441.000000</td>\n",
       "      <td>441.000000</td>\n",
       "      <td>441.000000</td>\n",
       "      <td>441.000000</td>\n",
       "      <td>441.000000</td>\n",
       "      <td>441.000000</td>\n",
       "      <td>441.000000</td>\n",
       "      <td>441.0</td>\n",
       "      <td>...</td>\n",
       "      <td>441.000000</td>\n",
       "      <td>441.000000</td>\n",
       "      <td>441.000000</td>\n",
       "      <td>441.000000</td>\n",
       "      <td>441.000000</td>\n",
       "      <td>441.0</td>\n",
       "      <td>441.000000</td>\n",
       "      <td>441.000000</td>\n",
       "      <td>441.000000</td>\n",
       "      <td>441.000000</td>\n",
       "    </tr>\n",
       "    <tr>\n",
       "      <th>mean</th>\n",
       "      <td>270.00000</td>\n",
       "      <td>1.000758</td>\n",
       "      <td>16.122449</td>\n",
       "      <td>1.014103</td>\n",
       "      <td>0.984395</td>\n",
       "      <td>6.988662</td>\n",
       "      <td>1.001660</td>\n",
       "      <td>1.113706</td>\n",
       "      <td>2006.555556</td>\n",
       "      <td>1.0</td>\n",
       "      <td>...</td>\n",
       "      <td>0.999237</td>\n",
       "      <td>0.998603</td>\n",
       "      <td>0.995123</td>\n",
       "      <td>0.985806</td>\n",
       "      <td>2.000000</td>\n",
       "      <td>1.0</td>\n",
       "      <td>1.122881</td>\n",
       "      <td>1.146417</td>\n",
       "      <td>1.154419</td>\n",
       "      <td>1.153098</td>\n",
       "    </tr>\n",
       "    <tr>\n",
       "      <th>std</th>\n",
       "      <td>127.44999</td>\n",
       "      <td>0.022460</td>\n",
       "      <td>8.784204</td>\n",
       "      <td>0.015509</td>\n",
       "      <td>0.016947</td>\n",
       "      <td>3.173378</td>\n",
       "      <td>0.010287</td>\n",
       "      <td>0.518346</td>\n",
       "      <td>0.497468</td>\n",
       "      <td>0.0</td>\n",
       "      <td>...</td>\n",
       "      <td>0.025112</td>\n",
       "      <td>0.033078</td>\n",
       "      <td>0.046775</td>\n",
       "      <td>0.059065</td>\n",
       "      <td>1.404538</td>\n",
       "      <td>0.0</td>\n",
       "      <td>0.634596</td>\n",
       "      <td>0.701249</td>\n",
       "      <td>0.748775</td>\n",
       "      <td>0.725599</td>\n",
       "    </tr>\n",
       "    <tr>\n",
       "      <th>min</th>\n",
       "      <td>50.00000</td>\n",
       "      <td>0.884462</td>\n",
       "      <td>1.000000</td>\n",
       "      <td>0.924303</td>\n",
       "      <td>0.878884</td>\n",
       "      <td>1.000000</td>\n",
       "      <td>0.924303</td>\n",
       "      <td>0.148279</td>\n",
       "      <td>2006.000000</td>\n",
       "      <td>1.0</td>\n",
       "      <td>...</td>\n",
       "      <td>0.926192</td>\n",
       "      <td>0.905673</td>\n",
       "      <td>0.876431</td>\n",
       "      <td>0.844419</td>\n",
       "      <td>0.000000</td>\n",
       "      <td>1.0</td>\n",
       "      <td>0.276743</td>\n",
       "      <td>0.214063</td>\n",
       "      <td>0.137020</td>\n",
       "      <td>0.198885</td>\n",
       "    </tr>\n",
       "    <tr>\n",
       "      <th>25%</th>\n",
       "      <td>160.00000</td>\n",
       "      <td>0.987589</td>\n",
       "      <td>9.000000</td>\n",
       "      <td>1.005632</td>\n",
       "      <td>0.975503</td>\n",
       "      <td>4.000000</td>\n",
       "      <td>0.996779</td>\n",
       "      <td>0.739196</td>\n",
       "      <td>2006.000000</td>\n",
       "      <td>1.0</td>\n",
       "      <td>...</td>\n",
       "      <td>0.983518</td>\n",
       "      <td>0.977292</td>\n",
       "      <td>0.965469</td>\n",
       "      <td>0.944908</td>\n",
       "      <td>1.000000</td>\n",
       "      <td>1.0</td>\n",
       "      <td>0.728886</td>\n",
       "      <td>0.702272</td>\n",
       "      <td>0.698657</td>\n",
       "      <td>0.690358</td>\n",
       "    </tr>\n",
       "    <tr>\n",
       "      <th>50%</th>\n",
       "      <td>270.00000</td>\n",
       "      <td>1.001025</td>\n",
       "      <td>16.000000</td>\n",
       "      <td>1.011657</td>\n",
       "      <td>0.987624</td>\n",
       "      <td>7.000000</td>\n",
       "      <td>1.001071</td>\n",
       "      <td>1.014361</td>\n",
       "      <td>2007.000000</td>\n",
       "      <td>1.0</td>\n",
       "      <td>...</td>\n",
       "      <td>0.997615</td>\n",
       "      <td>0.996077</td>\n",
       "      <td>0.989226</td>\n",
       "      <td>0.976490</td>\n",
       "      <td>2.000000</td>\n",
       "      <td>1.0</td>\n",
       "      <td>0.987250</td>\n",
       "      <td>0.977673</td>\n",
       "      <td>0.994520</td>\n",
       "      <td>0.995522</td>\n",
       "    </tr>\n",
       "    <tr>\n",
       "      <th>75%</th>\n",
       "      <td>380.00000</td>\n",
       "      <td>1.013216</td>\n",
       "      <td>24.000000</td>\n",
       "      <td>1.020536</td>\n",
       "      <td>0.995807</td>\n",
       "      <td>10.000000</td>\n",
       "      <td>1.006783</td>\n",
       "      <td>1.371957</td>\n",
       "      <td>2007.000000</td>\n",
       "      <td>1.0</td>\n",
       "      <td>...</td>\n",
       "      <td>1.013953</td>\n",
       "      <td>1.017585</td>\n",
       "      <td>1.019438</td>\n",
       "      <td>1.018017</td>\n",
       "      <td>3.000000</td>\n",
       "      <td>1.0</td>\n",
       "      <td>1.352822</td>\n",
       "      <td>1.360307</td>\n",
       "      <td>1.374601</td>\n",
       "      <td>1.417962</td>\n",
       "    </tr>\n",
       "    <tr>\n",
       "      <th>max</th>\n",
       "      <td>490.00000</td>\n",
       "      <td>1.079268</td>\n",
       "      <td>31.000000</td>\n",
       "      <td>1.079268</td>\n",
       "      <td>1.018762</td>\n",
       "      <td>12.000000</td>\n",
       "      <td>1.040474</td>\n",
       "      <td>3.613459</td>\n",
       "      <td>2007.000000</td>\n",
       "      <td>1.0</td>\n",
       "      <td>...</td>\n",
       "      <td>1.088108</td>\n",
       "      <td>1.104730</td>\n",
       "      <td>1.181081</td>\n",
       "      <td>1.256405</td>\n",
       "      <td>4.000000</td>\n",
       "      <td>1.0</td>\n",
       "      <td>6.744062</td>\n",
       "      <td>6.564526</td>\n",
       "      <td>9.389013</td>\n",
       "      <td>6.802691</td>\n",
       "    </tr>\n",
       "  </tbody>\n",
       "</table>\n",
       "<p>8 rows × 219 columns</p>\n",
       "</div>"
      ],
      "text/plain": [
       "           index       close         day        high         low       month  \\\n",
       "count  441.00000  441.000000  441.000000  441.000000  441.000000  441.000000   \n",
       "mean   270.00000    1.000758   16.122449    1.014103    0.984395    6.988662   \n",
       "std    127.44999    0.022460    8.784204    0.015509    0.016947    3.173378   \n",
       "min     50.00000    0.884462    1.000000    0.924303    0.878884    1.000000   \n",
       "25%    160.00000    0.987589    9.000000    1.005632    0.975503    4.000000   \n",
       "50%    270.00000    1.001025   16.000000    1.011657    0.987624    7.000000   \n",
       "75%    380.00000    1.013216   24.000000    1.020536    0.995807   10.000000   \n",
       "max    490.00000    1.079268   31.000000    1.079268    1.018762   12.000000   \n",
       "\n",
       "             open      volume         year  close1     ...             MA5  \\\n",
       "count  441.000000  441.000000   441.000000   441.0     ...      441.000000   \n",
       "mean     1.001660    1.113706  2006.555556     1.0     ...        0.999237   \n",
       "std      0.010287    0.518346     0.497468     0.0     ...        0.025112   \n",
       "min      0.924303    0.148279  2006.000000     1.0     ...        0.926192   \n",
       "25%      0.996779    0.739196  2006.000000     1.0     ...        0.983518   \n",
       "50%      1.001071    1.014361  2007.000000     1.0     ...        0.997615   \n",
       "75%      1.006783    1.371957  2007.000000     1.0     ...        1.013953   \n",
       "max      1.040474    3.613459  2007.000000     1.0     ...        1.088108   \n",
       "\n",
       "              MA8        MA21        MA50    week_day  volume1     volume2  \\\n",
       "count  441.000000  441.000000  441.000000  441.000000    441.0  441.000000   \n",
       "mean     0.998603    0.995123    0.985806    2.000000      1.0    1.122881   \n",
       "std      0.033078    0.046775    0.059065    1.404538      0.0    0.634596   \n",
       "min      0.905673    0.876431    0.844419    0.000000      1.0    0.276743   \n",
       "25%      0.977292    0.965469    0.944908    1.000000      1.0    0.728886   \n",
       "50%      0.996077    0.989226    0.976490    2.000000      1.0    0.987250   \n",
       "75%      1.017585    1.019438    1.018017    3.000000      1.0    1.352822   \n",
       "max      1.104730    1.181081    1.256405    4.000000      1.0    6.744062   \n",
       "\n",
       "          volume3     volume4     volume5  \n",
       "count  441.000000  441.000000  441.000000  \n",
       "mean     1.146417    1.154419    1.153098  \n",
       "std      0.701249    0.748775    0.725599  \n",
       "min      0.214063    0.137020    0.198885  \n",
       "25%      0.702272    0.698657    0.690358  \n",
       "50%      0.977673    0.994520    0.995522  \n",
       "75%      1.360307    1.374601    1.417962  \n",
       "max      6.564526    9.389013    6.802691  \n",
       "\n",
       "[8 rows x 219 columns]"
      ]
     },
     "execution_count": 8,
     "metadata": {},
     "output_type": "execute_result"
    }
   ],
   "source": [
    "df = df.loc[50:].reset_index()\n",
    "\n",
    "df.describe()"
   ]
  },
  {
   "cell_type": "markdown",
   "metadata": {},
   "source": [
    "## Preparing the target\n",
    "Until now we have not prepared the target, the target will be a data frame that gives 1 when price close higher than price open, otherwise it returns 1."
   ]
  },
  {
   "cell_type": "code",
   "execution_count": 9,
   "metadata": {
    "collapsed": false
   },
   "outputs": [
    {
     "data": {
      "text/plain": [
       "(array([ 241.,    0.,    0.,    0.,    0.,    0.,    0.,    0.,    0.,  200.]),\n",
       " array([ 0. ,  0.1,  0.2,  0.3,  0.4,  0.5,  0.6,  0.7,  0.8,  0.9,  1. ]),\n",
       " <a list of 10 Patch objects>)"
      ]
     },
     "execution_count": 9,
     "metadata": {},
     "output_type": "execute_result"
    },
    {
     "data": {
      "image/png": "[encoded data removed]",
      "text/plain": [
       "<matplotlib.figure.Figure at 0xc8ecba8>"
      ]
     },
     "metadata": {},
     "output_type": "display_data"
    }
   ],
   "source": [
    "y_all = []\n",
    "\n",
    "for i in range(len(df)):\n",
    "    is_higher = (1 if (df.loc[i,'close']/df.loc[i,'open'] > 1.) else 0)\n",
    "    y_all.extend([is_higher])\n",
    "    \n",
    "plt.hist(y_all)"
   ]
  },
  {
   "cell_type": "markdown",
   "metadata": {},
   "source": [
    "We can see that it is almost a 50% chance for the day to close higher or not."
   ]
  },
  {
   "cell_type": "markdown",
   "metadata": {},
   "source": [
    "## Prepare data\n",
    "Now that we have the target we can clean our data to start the work."
   ]
  },
  {
   "cell_type": "code",
   "execution_count": 10,
   "metadata": {
    "collapsed": false
   },
   "outputs": [
    {
     "data": {
      "text/html": [
       "<div>\n",
       "<table border=\"1\" class=\"dataframe\">\n",
       "  <thead>\n",
       "    <tr style=\"text-align: right;\">\n",
       "      <th></th>\n",
       "      <th>day</th>\n",
       "      <th>month</th>\n",
       "      <th>year</th>\n",
       "      <th>close1</th>\n",
       "      <th>close2</th>\n",
       "      <th>close3</th>\n",
       "      <th>close4</th>\n",
       "      <th>close5</th>\n",
       "      <th>close6</th>\n",
       "      <th>close7</th>\n",
       "      <th>...</th>\n",
       "      <th>MA5</th>\n",
       "      <th>MA8</th>\n",
       "      <th>MA21</th>\n",
       "      <th>MA50</th>\n",
       "      <th>week_day</th>\n",
       "      <th>volume1</th>\n",
       "      <th>volume2</th>\n",
       "      <th>volume3</th>\n",
       "      <th>volume4</th>\n",
       "      <th>volume5</th>\n",
       "    </tr>\n",
       "  </thead>\n",
       "  <tbody>\n",
       "    <tr>\n",
       "      <th>count</th>\n",
       "      <td>441.000000</td>\n",
       "      <td>441.000000</td>\n",
       "      <td>441.000000</td>\n",
       "      <td>441.0</td>\n",
       "      <td>441.000000</td>\n",
       "      <td>441.000000</td>\n",
       "      <td>441.000000</td>\n",
       "      <td>441.000000</td>\n",
       "      <td>441.000000</td>\n",
       "      <td>441.000000</td>\n",
       "      <td>...</td>\n",
       "      <td>441.000000</td>\n",
       "      <td>441.000000</td>\n",
       "      <td>441.000000</td>\n",
       "      <td>441.000000</td>\n",
       "      <td>441.000000</td>\n",
       "      <td>441.0</td>\n",
       "      <td>441.000000</td>\n",
       "      <td>441.000000</td>\n",
       "      <td>441.000000</td>\n",
       "      <td>441.000000</td>\n",
       "    </tr>\n",
       "    <tr>\n",
       "      <th>mean</th>\n",
       "      <td>16.122449</td>\n",
       "      <td>6.988662</td>\n",
       "      <td>2006.555556</td>\n",
       "      <td>1.0</td>\n",
       "      <td>0.999687</td>\n",
       "      <td>0.999250</td>\n",
       "      <td>0.998858</td>\n",
       "      <td>0.998389</td>\n",
       "      <td>0.997959</td>\n",
       "      <td>0.997511</td>\n",
       "      <td>...</td>\n",
       "      <td>0.999237</td>\n",
       "      <td>0.998603</td>\n",
       "      <td>0.995123</td>\n",
       "      <td>0.985806</td>\n",
       "      <td>2.000000</td>\n",
       "      <td>1.0</td>\n",
       "      <td>1.122881</td>\n",
       "      <td>1.146417</td>\n",
       "      <td>1.154419</td>\n",
       "      <td>1.153098</td>\n",
       "    </tr>\n",
       "    <tr>\n",
       "      <th>std</th>\n",
       "      <td>8.784204</td>\n",
       "      <td>3.173378</td>\n",
       "      <td>0.497468</td>\n",
       "      <td>0.0</td>\n",
       "      <td>0.022510</td>\n",
       "      <td>0.031993</td>\n",
       "      <td>0.039587</td>\n",
       "      <td>0.046056</td>\n",
       "      <td>0.051222</td>\n",
       "      <td>0.054731</td>\n",
       "      <td>...</td>\n",
       "      <td>0.025112</td>\n",
       "      <td>0.033078</td>\n",
       "      <td>0.046775</td>\n",
       "      <td>0.059065</td>\n",
       "      <td>1.404538</td>\n",
       "      <td>0.0</td>\n",
       "      <td>0.634596</td>\n",
       "      <td>0.701249</td>\n",
       "      <td>0.748775</td>\n",
       "      <td>0.725599</td>\n",
       "    </tr>\n",
       "    <tr>\n",
       "      <th>min</th>\n",
       "      <td>1.000000</td>\n",
       "      <td>1.000000</td>\n",
       "      <td>2006.000000</td>\n",
       "      <td>1.0</td>\n",
       "      <td>0.926554</td>\n",
       "      <td>0.902439</td>\n",
       "      <td>0.876151</td>\n",
       "      <td>0.865385</td>\n",
       "      <td>0.862069</td>\n",
       "      <td>0.856923</td>\n",
       "      <td>...</td>\n",
       "      <td>0.926192</td>\n",
       "      <td>0.905673</td>\n",
       "      <td>0.876431</td>\n",
       "      <td>0.844419</td>\n",
       "      <td>0.000000</td>\n",
       "      <td>1.0</td>\n",
       "      <td>0.276743</td>\n",
       "      <td>0.214063</td>\n",
       "      <td>0.137020</td>\n",
       "      <td>0.198885</td>\n",
       "    </tr>\n",
       "    <tr>\n",
       "      <th>25%</th>\n",
       "      <td>9.000000</td>\n",
       "      <td>4.000000</td>\n",
       "      <td>2006.000000</td>\n",
       "      <td>1.0</td>\n",
       "      <td>0.986957</td>\n",
       "      <td>0.980304</td>\n",
       "      <td>0.974125</td>\n",
       "      <td>0.969547</td>\n",
       "      <td>0.964835</td>\n",
       "      <td>0.962766</td>\n",
       "      <td>...</td>\n",
       "      <td>0.983518</td>\n",
       "      <td>0.977292</td>\n",
       "      <td>0.965469</td>\n",
       "      <td>0.944908</td>\n",
       "      <td>1.000000</td>\n",
       "      <td>1.0</td>\n",
       "      <td>0.728886</td>\n",
       "      <td>0.702272</td>\n",
       "      <td>0.698657</td>\n",
       "      <td>0.690358</td>\n",
       "    </tr>\n",
       "    <tr>\n",
       "      <th>50%</th>\n",
       "      <td>16.000000</td>\n",
       "      <td>7.000000</td>\n",
       "      <td>2007.000000</td>\n",
       "      <td>1.0</td>\n",
       "      <td>0.998976</td>\n",
       "      <td>0.997602</td>\n",
       "      <td>0.996778</td>\n",
       "      <td>0.995855</td>\n",
       "      <td>0.994022</td>\n",
       "      <td>0.992233</td>\n",
       "      <td>...</td>\n",
       "      <td>0.997615</td>\n",
       "      <td>0.996077</td>\n",
       "      <td>0.989226</td>\n",
       "      <td>0.976490</td>\n",
       "      <td>2.000000</td>\n",
       "      <td>1.0</td>\n",
       "      <td>0.987250</td>\n",
       "      <td>0.977673</td>\n",
       "      <td>0.994520</td>\n",
       "      <td>0.995522</td>\n",
       "    </tr>\n",
       "    <tr>\n",
       "      <th>75%</th>\n",
       "      <td>24.000000</td>\n",
       "      <td>10.000000</td>\n",
       "      <td>2007.000000</td>\n",
       "      <td>1.0</td>\n",
       "      <td>1.012346</td>\n",
       "      <td>1.018100</td>\n",
       "      <td>1.022605</td>\n",
       "      <td>1.026157</td>\n",
       "      <td>1.031308</td>\n",
       "      <td>1.030568</td>\n",
       "      <td>...</td>\n",
       "      <td>1.013953</td>\n",
       "      <td>1.017585</td>\n",
       "      <td>1.019438</td>\n",
       "      <td>1.018017</td>\n",
       "      <td>3.000000</td>\n",
       "      <td>1.0</td>\n",
       "      <td>1.352822</td>\n",
       "      <td>1.360307</td>\n",
       "      <td>1.374601</td>\n",
       "      <td>1.417962</td>\n",
       "    </tr>\n",
       "    <tr>\n",
       "      <th>max</th>\n",
       "      <td>31.000000</td>\n",
       "      <td>12.000000</td>\n",
       "      <td>2007.000000</td>\n",
       "      <td>1.0</td>\n",
       "      <td>1.130631</td>\n",
       "      <td>1.115556</td>\n",
       "      <td>1.116216</td>\n",
       "      <td>1.130435</td>\n",
       "      <td>1.146597</td>\n",
       "      <td>1.183784</td>\n",
       "      <td>...</td>\n",
       "      <td>1.088108</td>\n",
       "      <td>1.104730</td>\n",
       "      <td>1.181081</td>\n",
       "      <td>1.256405</td>\n",
       "      <td>4.000000</td>\n",
       "      <td>1.0</td>\n",
       "      <td>6.744062</td>\n",
       "      <td>6.564526</td>\n",
       "      <td>9.389013</td>\n",
       "      <td>6.802691</td>\n",
       "    </tr>\n",
       "  </tbody>\n",
       "</table>\n",
       "<p>8 rows × 213 columns</p>\n",
       "</div>"
      ],
      "text/plain": [
       "              day       month         year  close1      close2      close3  \\\n",
       "count  441.000000  441.000000   441.000000   441.0  441.000000  441.000000   \n",
       "mean    16.122449    6.988662  2006.555556     1.0    0.999687    0.999250   \n",
       "std      8.784204    3.173378     0.497468     0.0    0.022510    0.031993   \n",
       "min      1.000000    1.000000  2006.000000     1.0    0.926554    0.902439   \n",
       "25%      9.000000    4.000000  2006.000000     1.0    0.986957    0.980304   \n",
       "50%     16.000000    7.000000  2007.000000     1.0    0.998976    0.997602   \n",
       "75%     24.000000   10.000000  2007.000000     1.0    1.012346    1.018100   \n",
       "max     31.000000   12.000000  2007.000000     1.0    1.130631    1.115556   \n",
       "\n",
       "           close4      close5      close6      close7     ...             MA5  \\\n",
       "count  441.000000  441.000000  441.000000  441.000000     ...      441.000000   \n",
       "mean     0.998858    0.998389    0.997959    0.997511     ...        0.999237   \n",
       "std      0.039587    0.046056    0.051222    0.054731     ...        0.025112   \n",
       "min      0.876151    0.865385    0.862069    0.856923     ...        0.926192   \n",
       "25%      0.974125    0.969547    0.964835    0.962766     ...        0.983518   \n",
       "50%      0.996778    0.995855    0.994022    0.992233     ...        0.997615   \n",
       "75%      1.022605    1.026157    1.031308    1.030568     ...        1.013953   \n",
       "max      1.116216    1.130435    1.146597    1.183784     ...        1.088108   \n",
       "\n",
       "              MA8        MA21        MA50    week_day  volume1     volume2  \\\n",
       "count  441.000000  441.000000  441.000000  441.000000    441.0  441.000000   \n",
       "mean     0.998603    0.995123    0.985806    2.000000      1.0    1.122881   \n",
       "std      0.033078    0.046775    0.059065    1.404538      0.0    0.634596   \n",
       "min      0.905673    0.876431    0.844419    0.000000      1.0    0.276743   \n",
       "25%      0.977292    0.965469    0.944908    1.000000      1.0    0.728886   \n",
       "50%      0.996077    0.989226    0.976490    2.000000      1.0    0.987250   \n",
       "75%      1.017585    1.019438    1.018017    3.000000      1.0    1.352822   \n",
       "max      1.104730    1.181081    1.256405    4.000000      1.0    6.744062   \n",
       "\n",
       "          volume3     volume4     volume5  \n",
       "count  441.000000  441.000000  441.000000  \n",
       "mean     1.146417    1.154419    1.153098  \n",
       "std      0.701249    0.748775    0.725599  \n",
       "min      0.214063    0.137020    0.198885  \n",
       "25%      0.702272    0.698657    0.690358  \n",
       "50%      0.977673    0.994520    0.995522  \n",
       "75%      1.360307    1.374601    1.417962  \n",
       "max      6.564526    9.389013    6.802691  \n",
       "\n",
       "[8 rows x 213 columns]"
      ]
     },
     "execution_count": 10,
     "metadata": {},
     "output_type": "execute_result"
    }
   ],
   "source": [
    "X_all = df.drop(['index','close','low','high','open','volume'],1)\n",
    "\n",
    "X_all.describe()"
   ]
  },
  {
   "cell_type": "markdown",
   "metadata": {},
   "source": [
    "# Split the data\n",
    "Now that our data is good to go we will split the data to start to evaluate the problem. Since almost of 50% of the cases are good we will not worry about stratification, we will use the simple train_test_split."
   ]
  },
  {
   "cell_type": "code",
   "execution_count": 11,
   "metadata": {
    "collapsed": false
   },
   "outputs": [],
   "source": [
    "X_train, X_test, y_train, y_test = train_test_split(X_all,y_all, test_size = 0.25, random_state = RANDOM_SEED)"
   ]
  },
  {
   "cell_type": "markdown",
   "metadata": {},
   "source": [
    "# Feature selection\n",
    "We will use the PCA to evaluate the features and the sklearn.feature_selection.SelectKBest to evaluate the features considering the target values. The objective is to reduce it for a more reasonable number. In the moment we have 213 features. We will  reduce the number to components to 20."
   ]
  },
  {
   "cell_type": "code",
   "execution_count": 12,
   "metadata": {
    "collapsed": false
   },
   "outputs": [],
   "source": [
    "pca = PCA()\n",
    "pca.fit(X_train,y_train)\n",
    "#print pca.explained_variance_ratio_\n",
    "\n",
    "#ica = FastICA(max_iter=20000, tol=0.1, random_state = RANDOM_SEED)\n",
    "#ica.fit(X_train,y_train)\n",
    "\n",
    "skb = SelectKBest(f_classif,k=50)\n",
    "skb.fit(pca.transform(X_train),y_train)\n",
    "#print skb.scores_\n",
    "\n",
    "X_train_reduced = skb.transform(pca.transform(X_train))\n",
    "X_test_reduced = skb.transform(pca.transform(X_test))"
   ]
  },
  {
   "cell_type": "markdown",
   "metadata": {},
   "source": [
    "Note: First I started with PCA and k=20 in SelectKBest, as mentioned, but the results were not good. Trying to improve I included FastICA and increased the number of variables in the SelectKBest. It improved the performance."
   ]
  },
  {
   "cell_type": "markdown",
   "metadata": {},
   "source": [
    "# Defining the classifier\n",
    "Since we want to know if the stock will go up in a given day or not it is a classification problem. Considering the amount of data that we have, over 2000, we will use the Support Vector Classifier.\n",
    "\n",
    "For the classifier decision we are using the recommendation of the sklearn website, see image below:\n",
    "\n",
    "![sklearn map](http://scikit-learn.org/stable/_static/ml_map.png)\n",
    "\n",
    "Together with the classifier we will implement the GridSearchCV and the makescorer."
   ]
  },
  {
   "cell_type": "code",
   "execution_count": 13,
   "metadata": {
    "collapsed": false
   },
   "outputs": [
    {
     "name": "stderr",
     "output_type": "stream",
     "text": [
      "C:\\Users\\Ivan\\Anaconda2\\lib\\site-packages\\sklearn\\metrics\\classification.py:1074: UndefinedMetricWarning: Precision is ill-defined and being set to 0.0 due to no predicted samples.\n",
      "  'precision', 'predicted', average, warn_for)\n"
     ]
    },
    {
     "name": "stdout",
     "output_type": "stream",
     "text": [
      "SVC(C=1, cache_size=200, class_weight=None, coef0=0.0,\n",
      "  decision_function_shape=None, degree=2, gamma='auto', kernel='linear',\n",
      "  max_iter=-1, probability=False, random_state=42, shrinking=True,\n",
      "  tol=0.001, verbose=False)\n",
      "0.627065897066\n",
      "The score in the training data was 0.6870.\n",
      "The score in the test data was 0.4412.\n"
     ]
    }
   ],
   "source": [
    "svc = SVC(random_state = RANDOM_SEED)\n",
    "\n",
    "parameters = {'kernel':('linear', 'poly', 'rbf', 'sigmoid'), 'C':[1, 1.5, 3, 5, 10], 'degree':[2,3,4]}\n",
    "\n",
    "precision_scorer = make_scorer(precision_score)\n",
    "\n",
    "clf = GridSearchCV(svc, parameters, scoring = precision_scorer)\n",
    "\n",
    "clf.fit(X_train_reduced, y_train)\n",
    "\n",
    "print(clf.best_estimator_)\n",
    "print(clf.best_score_)\n",
    "svc = clf.best_estimator_\n",
    "\n",
    "print(\"The score in the training data was %0.4f.\" % (precision_score(y_train,svc.predict(X_train_reduced))))\n",
    "print(\"The score in the test data was %0.4f.\" % (precision_score(y_test,svc.predict(X_test_reduced))))\n"
   ]
  },
  {
   "cell_type": "markdown",
   "metadata": {},
   "source": [
    "Since SVC is not working lets go to KNeighborsClassifier, as the map suggests."
   ]
  },
  {
   "cell_type": "code",
   "execution_count": 14,
   "metadata": {
    "collapsed": false
   },
   "outputs": [
    {
     "name": "stdout",
     "output_type": "stream",
     "text": [
      "KNeighborsClassifier(algorithm='auto', leaf_size=2, metric='minkowski',\n",
      "           metric_params=None, n_jobs=1, n_neighbors=64, p=3,\n",
      "           weights='uniform')\n",
      "0.72390993266\n",
      "The score in the training data was 0.7121.\n",
      "The score in the test data was 0.4074.\n"
     ]
    }
   ],
   "source": [
    "knc = KNeighborsClassifier()\n",
    "\n",
    "parameters = {'n_neighbors':[2,4,5,8,16,32,64], 'p':[2, 3], 'leaf_size':[2,5,10,20,30]}\n",
    "\n",
    "clf = GridSearchCV(knc, parameters, scoring = precision_scorer)\n",
    "\n",
    "clf.fit(X_train_reduced, y_train)\n",
    "\n",
    "print(clf.best_estimator_)\n",
    "print(clf.best_score_)\n",
    "knc = clf.best_estimator_\n",
    "\n",
    "print(\"The score in the training data was %0.4f.\" % (precision_score(y_train,knc.predict(X_train_reduced))))\n",
    "print(\"The score in the test data was %0.4f.\" % (precision_score(y_test,knc.predict(X_test_reduced))))"
   ]
  },
  {
   "cell_type": "markdown",
   "metadata": {},
   "source": [
    "KNeighborsClassifier also did not work well. Let's try 2 ensemble methods, AdaBoostClassifier and RandomForestClassifier."
   ]
  },
  {
   "cell_type": "code",
   "execution_count": 15,
   "metadata": {
    "collapsed": false
   },
   "outputs": [
    {
     "name": "stdout",
     "output_type": "stream",
     "text": [
      "AdaBoostClassifier(algorithm='SAMME.R', base_estimator=None,\n",
      "          learning_rate=0.5, n_estimators=800, random_state=42)\n",
      "0.572435277488\n",
      "The score in the training data was 1.0000.\n",
      "The score in the test data was 0.4286.\n"
     ]
    }
   ],
   "source": [
    "abc = AdaBoostClassifier(random_state = RANDOM_SEED)\n",
    "\n",
    "parameters = {algorithm=('SAMME','SAMME.R'), 'n_estimators':[10,30,50,80,120,300,500,800,1200], 'learning_rate':[0.1,0.5,1.0,1.5,2.0]}\n",
    "\n",
    "clf = GridSearchCV(abc, parameters, scoring = precision_scorer)\n",
    "\n",
    "clf.fit(X_train_reduced, y_train)\n",
    "\n",
    "print(clf.best_estimator_)\n",
    "print(clf.best_score_)\n",
    "abc = clf.best_estimator_\n",
    "\n",
    "print(\"The score in the training data was %0.4f.\" % (precision_score(y_train,abc.predict(X_train_reduced))))\n",
    "print(\"The score in the test data was %0.4f.\" % (precision_score(y_test,abc.predict(X_test_reduced))))"
   ]
  },
  {
   "cell_type": "code",
   "execution_count": 16,
   "metadata": {
    "collapsed": false
   },
   "outputs": [
    {
     "ename": "KeyboardInterrupt",
     "evalue": "",
     "output_type": "error",
     "traceback": [
      "\u001b[1;31m---------------------------------------------------------------------------\u001b[0m",
      "\u001b[1;31mKeyboardInterrupt\u001b[0m                         Traceback (most recent call last)",
      "\u001b[1;32m<ipython-input-16-4011cfac92eb>\u001b[0m in \u001b[0;36m<module>\u001b[1;34m()\u001b[0m\n\u001b[0;32m      6\u001b[0m \u001b[0mclf\u001b[0m \u001b[1;33m=\u001b[0m \u001b[0mGridSearchCV\u001b[0m\u001b[1;33m(\u001b[0m\u001b[0mrfc\u001b[0m\u001b[1;33m,\u001b[0m \u001b[0mparameters\u001b[0m\u001b[1;33m,\u001b[0m \u001b[0mscoring\u001b[0m \u001b[1;33m=\u001b[0m \u001b[0mprecision_scorer\u001b[0m\u001b[1;33m)\u001b[0m\u001b[1;33m\u001b[0m\u001b[0m\n\u001b[0;32m      7\u001b[0m \u001b[1;33m\u001b[0m\u001b[0m\n\u001b[1;32m----> 8\u001b[1;33m \u001b[0mclf\u001b[0m\u001b[1;33m.\u001b[0m\u001b[0mfit\u001b[0m\u001b[1;33m(\u001b[0m\u001b[0mX_train_reduced\u001b[0m\u001b[1;33m,\u001b[0m \u001b[0my_train\u001b[0m\u001b[1;33m)\u001b[0m\u001b[1;33m\u001b[0m\u001b[0m\n\u001b[0m\u001b[0;32m      9\u001b[0m \u001b[1;33m\u001b[0m\u001b[0m\n\u001b[0;32m     10\u001b[0m \u001b[1;32mprint\u001b[0m\u001b[1;33m(\u001b[0m\u001b[0mclf\u001b[0m\u001b[1;33m.\u001b[0m\u001b[0mbest_estimator_\u001b[0m\u001b[1;33m)\u001b[0m\u001b[1;33m\u001b[0m\u001b[0m\n",
      "\u001b[1;32mC:\\Users\\Ivan\\Anaconda2\\lib\\site-packages\\sklearn\\grid_search.pyc\u001b[0m in \u001b[0;36mfit\u001b[1;34m(self, X, y)\u001b[0m\n\u001b[0;32m    802\u001b[0m \u001b[1;33m\u001b[0m\u001b[0m\n\u001b[0;32m    803\u001b[0m         \"\"\"\n\u001b[1;32m--> 804\u001b[1;33m         \u001b[1;32mreturn\u001b[0m \u001b[0mself\u001b[0m\u001b[1;33m.\u001b[0m\u001b[0m_fit\u001b[0m\u001b[1;33m(\u001b[0m\u001b[0mX\u001b[0m\u001b[1;33m,\u001b[0m \u001b[0my\u001b[0m\u001b[1;33m,\u001b[0m \u001b[0mParameterGrid\u001b[0m\u001b[1;33m(\u001b[0m\u001b[0mself\u001b[0m\u001b[1;33m.\u001b[0m\u001b[0mparam_grid\u001b[0m\u001b[1;33m)\u001b[0m\u001b[1;33m)\u001b[0m\u001b[1;33m\u001b[0m\u001b[0m\n\u001b[0m\u001b[0;32m    805\u001b[0m \u001b[1;33m\u001b[0m\u001b[0m\n\u001b[0;32m    806\u001b[0m \u001b[1;33m\u001b[0m\u001b[0m\n",
      "\u001b[1;32mC:\\Users\\Ivan\\Anaconda2\\lib\\site-packages\\sklearn\\grid_search.pyc\u001b[0m in \u001b[0;36m_fit\u001b[1;34m(self, X, y, parameter_iterable)\u001b[0m\n\u001b[0;32m    551\u001b[0m                                     \u001b[0mself\u001b[0m\u001b[1;33m.\u001b[0m\u001b[0mfit_params\u001b[0m\u001b[1;33m,\u001b[0m \u001b[0mreturn_parameters\u001b[0m\u001b[1;33m=\u001b[0m\u001b[0mTrue\u001b[0m\u001b[1;33m,\u001b[0m\u001b[1;33m\u001b[0m\u001b[0m\n\u001b[0;32m    552\u001b[0m                                     error_score=self.error_score)\n\u001b[1;32m--> 553\u001b[1;33m                 \u001b[1;32mfor\u001b[0m \u001b[0mparameters\u001b[0m \u001b[1;32min\u001b[0m \u001b[0mparameter_iterable\u001b[0m\u001b[1;33m\u001b[0m\u001b[0m\n\u001b[0m\u001b[0;32m    554\u001b[0m                 for train, test in cv)\n\u001b[0;32m    555\u001b[0m \u001b[1;33m\u001b[0m\u001b[0m\n",
      "\u001b[1;32mC:\\Users\\Ivan\\Anaconda2\\lib\\site-packages\\sklearn\\externals\\joblib\\parallel.pyc\u001b[0m in \u001b[0;36m__call__\u001b[1;34m(self, iterable)\u001b[0m\n\u001b[0;32m    798\u001b[0m             \u001b[1;31m# was dispatched. In particular this covers the edge\u001b[0m\u001b[1;33m\u001b[0m\u001b[1;33m\u001b[0m\u001b[0m\n\u001b[0;32m    799\u001b[0m             \u001b[1;31m# case of Parallel used with an exhausted iterator.\u001b[0m\u001b[1;33m\u001b[0m\u001b[1;33m\u001b[0m\u001b[0m\n\u001b[1;32m--> 800\u001b[1;33m             \u001b[1;32mwhile\u001b[0m \u001b[0mself\u001b[0m\u001b[1;33m.\u001b[0m\u001b[0mdispatch_one_batch\u001b[0m\u001b[1;33m(\u001b[0m\u001b[0miterator\u001b[0m\u001b[1;33m)\u001b[0m\u001b[1;33m:\u001b[0m\u001b[1;33m\u001b[0m\u001b[0m\n\u001b[0m\u001b[0;32m    801\u001b[0m                 \u001b[0mself\u001b[0m\u001b[1;33m.\u001b[0m\u001b[0m_iterating\u001b[0m \u001b[1;33m=\u001b[0m \u001b[0mTrue\u001b[0m\u001b[1;33m\u001b[0m\u001b[0m\n\u001b[0;32m    802\u001b[0m             \u001b[1;32melse\u001b[0m\u001b[1;33m:\u001b[0m\u001b[1;33m\u001b[0m\u001b[0m\n",
      "\u001b[1;32mC:\\Users\\Ivan\\Anaconda2\\lib\\site-packages\\sklearn\\externals\\joblib\\parallel.pyc\u001b[0m in \u001b[0;36mdispatch_one_batch\u001b[1;34m(self, iterator)\u001b[0m\n\u001b[0;32m    656\u001b[0m                 \u001b[1;32mreturn\u001b[0m \u001b[0mFalse\u001b[0m\u001b[1;33m\u001b[0m\u001b[0m\n\u001b[0;32m    657\u001b[0m             \u001b[1;32melse\u001b[0m\u001b[1;33m:\u001b[0m\u001b[1;33m\u001b[0m\u001b[0m\n\u001b[1;32m--> 658\u001b[1;33m                 \u001b[0mself\u001b[0m\u001b[1;33m.\u001b[0m\u001b[0m_dispatch\u001b[0m\u001b[1;33m(\u001b[0m\u001b[0mtasks\u001b[0m\u001b[1;33m)\u001b[0m\u001b[1;33m\u001b[0m\u001b[0m\n\u001b[0m\u001b[0;32m    659\u001b[0m                 \u001b[1;32mreturn\u001b[0m \u001b[0mTrue\u001b[0m\u001b[1;33m\u001b[0m\u001b[0m\n\u001b[0;32m    660\u001b[0m \u001b[1;33m\u001b[0m\u001b[0m\n",
      "\u001b[1;32mC:\\Users\\Ivan\\Anaconda2\\lib\\site-packages\\sklearn\\externals\\joblib\\parallel.pyc\u001b[0m in \u001b[0;36m_dispatch\u001b[1;34m(self, batch)\u001b[0m\n\u001b[0;32m    564\u001b[0m \u001b[1;33m\u001b[0m\u001b[0m\n\u001b[0;32m    565\u001b[0m         \u001b[1;32mif\u001b[0m \u001b[0mself\u001b[0m\u001b[1;33m.\u001b[0m\u001b[0m_pool\u001b[0m \u001b[1;32mis\u001b[0m \u001b[0mNone\u001b[0m\u001b[1;33m:\u001b[0m\u001b[1;33m\u001b[0m\u001b[0m\n\u001b[1;32m--> 566\u001b[1;33m             \u001b[0mjob\u001b[0m \u001b[1;33m=\u001b[0m \u001b[0mImmediateComputeBatch\u001b[0m\u001b[1;33m(\u001b[0m\u001b[0mbatch\u001b[0m\u001b[1;33m)\u001b[0m\u001b[1;33m\u001b[0m\u001b[0m\n\u001b[0m\u001b[0;32m    567\u001b[0m             \u001b[0mself\u001b[0m\u001b[1;33m.\u001b[0m\u001b[0m_jobs\u001b[0m\u001b[1;33m.\u001b[0m\u001b[0mappend\u001b[0m\u001b[1;33m(\u001b[0m\u001b[0mjob\u001b[0m\u001b[1;33m)\u001b[0m\u001b[1;33m\u001b[0m\u001b[0m\n\u001b[0;32m    568\u001b[0m             \u001b[0mself\u001b[0m\u001b[1;33m.\u001b[0m\u001b[0mn_dispatched_batches\u001b[0m \u001b[1;33m+=\u001b[0m \u001b[1;36m1\u001b[0m\u001b[1;33m\u001b[0m\u001b[0m\n",
      "\u001b[1;32mC:\\Users\\Ivan\\Anaconda2\\lib\\site-packages\\sklearn\\externals\\joblib\\parallel.pyc\u001b[0m in \u001b[0;36m__init__\u001b[1;34m(self, batch)\u001b[0m\n\u001b[0;32m    178\u001b[0m         \u001b[1;31m# Don't delay the application, to avoid keeping the input\u001b[0m\u001b[1;33m\u001b[0m\u001b[1;33m\u001b[0m\u001b[0m\n\u001b[0;32m    179\u001b[0m         \u001b[1;31m# arguments in memory\u001b[0m\u001b[1;33m\u001b[0m\u001b[1;33m\u001b[0m\u001b[0m\n\u001b[1;32m--> 180\u001b[1;33m         \u001b[0mself\u001b[0m\u001b[1;33m.\u001b[0m\u001b[0mresults\u001b[0m \u001b[1;33m=\u001b[0m \u001b[0mbatch\u001b[0m\u001b[1;33m(\u001b[0m\u001b[1;33m)\u001b[0m\u001b[1;33m\u001b[0m\u001b[0m\n\u001b[0m\u001b[0;32m    181\u001b[0m \u001b[1;33m\u001b[0m\u001b[0m\n\u001b[0;32m    182\u001b[0m     \u001b[1;32mdef\u001b[0m \u001b[0mget\u001b[0m\u001b[1;33m(\u001b[0m\u001b[0mself\u001b[0m\u001b[1;33m)\u001b[0m\u001b[1;33m:\u001b[0m\u001b[1;33m\u001b[0m\u001b[0m\n",
      "\u001b[1;32mC:\\Users\\Ivan\\Anaconda2\\lib\\site-packages\\sklearn\\externals\\joblib\\parallel.pyc\u001b[0m in \u001b[0;36m__call__\u001b[1;34m(self)\u001b[0m\n\u001b[0;32m     70\u001b[0m \u001b[1;33m\u001b[0m\u001b[0m\n\u001b[0;32m     71\u001b[0m     \u001b[1;32mdef\u001b[0m \u001b[0m__call__\u001b[0m\u001b[1;33m(\u001b[0m\u001b[0mself\u001b[0m\u001b[1;33m)\u001b[0m\u001b[1;33m:\u001b[0m\u001b[1;33m\u001b[0m\u001b[0m\n\u001b[1;32m---> 72\u001b[1;33m         \u001b[1;32mreturn\u001b[0m \u001b[1;33m[\u001b[0m\u001b[0mfunc\u001b[0m\u001b[1;33m(\u001b[0m\u001b[1;33m*\u001b[0m\u001b[0margs\u001b[0m\u001b[1;33m,\u001b[0m \u001b[1;33m**\u001b[0m\u001b[0mkwargs\u001b[0m\u001b[1;33m)\u001b[0m \u001b[1;32mfor\u001b[0m \u001b[0mfunc\u001b[0m\u001b[1;33m,\u001b[0m \u001b[0margs\u001b[0m\u001b[1;33m,\u001b[0m \u001b[0mkwargs\u001b[0m \u001b[1;32min\u001b[0m \u001b[0mself\u001b[0m\u001b[1;33m.\u001b[0m\u001b[0mitems\u001b[0m\u001b[1;33m]\u001b[0m\u001b[1;33m\u001b[0m\u001b[0m\n\u001b[0m\u001b[0;32m     73\u001b[0m \u001b[1;33m\u001b[0m\u001b[0m\n\u001b[0;32m     74\u001b[0m     \u001b[1;32mdef\u001b[0m \u001b[0m__len__\u001b[0m\u001b[1;33m(\u001b[0m\u001b[0mself\u001b[0m\u001b[1;33m)\u001b[0m\u001b[1;33m:\u001b[0m\u001b[1;33m\u001b[0m\u001b[0m\n",
      "\u001b[1;32mC:\\Users\\Ivan\\Anaconda2\\lib\\site-packages\\sklearn\\cross_validation.pyc\u001b[0m in \u001b[0;36m_fit_and_score\u001b[1;34m(estimator, X, y, scorer, train, test, verbose, parameters, fit_params, return_train_score, return_parameters, error_score)\u001b[0m\n\u001b[0;32m   1529\u001b[0m             \u001b[0mestimator\u001b[0m\u001b[1;33m.\u001b[0m\u001b[0mfit\u001b[0m\u001b[1;33m(\u001b[0m\u001b[0mX_train\u001b[0m\u001b[1;33m,\u001b[0m \u001b[1;33m**\u001b[0m\u001b[0mfit_params\u001b[0m\u001b[1;33m)\u001b[0m\u001b[1;33m\u001b[0m\u001b[0m\n\u001b[0;32m   1530\u001b[0m         \u001b[1;32melse\u001b[0m\u001b[1;33m:\u001b[0m\u001b[1;33m\u001b[0m\u001b[0m\n\u001b[1;32m-> 1531\u001b[1;33m             \u001b[0mestimator\u001b[0m\u001b[1;33m.\u001b[0m\u001b[0mfit\u001b[0m\u001b[1;33m(\u001b[0m\u001b[0mX_train\u001b[0m\u001b[1;33m,\u001b[0m \u001b[0my_train\u001b[0m\u001b[1;33m,\u001b[0m \u001b[1;33m**\u001b[0m\u001b[0mfit_params\u001b[0m\u001b[1;33m)\u001b[0m\u001b[1;33m\u001b[0m\u001b[0m\n\u001b[0m\u001b[0;32m   1532\u001b[0m \u001b[1;33m\u001b[0m\u001b[0m\n\u001b[0;32m   1533\u001b[0m     \u001b[1;32mexcept\u001b[0m \u001b[0mException\u001b[0m \u001b[1;32mas\u001b[0m \u001b[0me\u001b[0m\u001b[1;33m:\u001b[0m\u001b[1;33m\u001b[0m\u001b[0m\n",
      "\u001b[1;32mC:\\Users\\Ivan\\Anaconda2\\lib\\site-packages\\sklearn\\ensemble\\forest.pyc\u001b[0m in \u001b[0;36mfit\u001b[1;34m(self, X, y, sample_weight)\u001b[0m\n\u001b[0;32m    276\u001b[0m             \u001b[1;32mfor\u001b[0m \u001b[0mi\u001b[0m \u001b[1;32min\u001b[0m \u001b[0mrange\u001b[0m\u001b[1;33m(\u001b[0m\u001b[0mn_more_estimators\u001b[0m\u001b[1;33m)\u001b[0m\u001b[1;33m:\u001b[0m\u001b[1;33m\u001b[0m\u001b[0m\n\u001b[0;32m    277\u001b[0m                 \u001b[0mtree\u001b[0m \u001b[1;33m=\u001b[0m \u001b[0mself\u001b[0m\u001b[1;33m.\u001b[0m\u001b[0m_make_estimator\u001b[0m\u001b[1;33m(\u001b[0m\u001b[0mappend\u001b[0m\u001b[1;33m=\u001b[0m\u001b[0mFalse\u001b[0m\u001b[1;33m)\u001b[0m\u001b[1;33m\u001b[0m\u001b[0m\n\u001b[1;32m--> 278\u001b[1;33m                 \u001b[0mtree\u001b[0m\u001b[1;33m.\u001b[0m\u001b[0mset_params\u001b[0m\u001b[1;33m(\u001b[0m\u001b[0mrandom_state\u001b[0m\u001b[1;33m=\u001b[0m\u001b[0mrandom_state\u001b[0m\u001b[1;33m.\u001b[0m\u001b[0mrandint\u001b[0m\u001b[1;33m(\u001b[0m\u001b[0mMAX_INT\u001b[0m\u001b[1;33m)\u001b[0m\u001b[1;33m)\u001b[0m\u001b[1;33m\u001b[0m\u001b[0m\n\u001b[0m\u001b[0;32m    279\u001b[0m                 \u001b[0mtrees\u001b[0m\u001b[1;33m.\u001b[0m\u001b[0mappend\u001b[0m\u001b[1;33m(\u001b[0m\u001b[0mtree\u001b[0m\u001b[1;33m)\u001b[0m\u001b[1;33m\u001b[0m\u001b[0m\n\u001b[0;32m    280\u001b[0m \u001b[1;33m\u001b[0m\u001b[0m\n",
      "\u001b[1;32mC:\\Users\\Ivan\\Anaconda2\\lib\\site-packages\\sklearn\\base.pyc\u001b[0m in \u001b[0;36mset_params\u001b[1;34m(self, **params)\u001b[0m\n\u001b[0;32m    249\u001b[0m             \u001b[1;31m# Simple optimisation to gain speed (inspect is slow)\u001b[0m\u001b[1;33m\u001b[0m\u001b[1;33m\u001b[0m\u001b[0m\n\u001b[0;32m    250\u001b[0m             \u001b[1;32mreturn\u001b[0m \u001b[0mself\u001b[0m\u001b[1;33m\u001b[0m\u001b[0m\n\u001b[1;32m--> 251\u001b[1;33m         \u001b[0mvalid_params\u001b[0m \u001b[1;33m=\u001b[0m \u001b[0mself\u001b[0m\u001b[1;33m.\u001b[0m\u001b[0mget_params\u001b[0m\u001b[1;33m(\u001b[0m\u001b[0mdeep\u001b[0m\u001b[1;33m=\u001b[0m\u001b[0mTrue\u001b[0m\u001b[1;33m)\u001b[0m\u001b[1;33m\u001b[0m\u001b[0m\n\u001b[0m\u001b[0;32m    252\u001b[0m         \u001b[1;32mfor\u001b[0m \u001b[0mkey\u001b[0m\u001b[1;33m,\u001b[0m \u001b[0mvalue\u001b[0m \u001b[1;32min\u001b[0m \u001b[0msix\u001b[0m\u001b[1;33m.\u001b[0m\u001b[0miteritems\u001b[0m\u001b[1;33m(\u001b[0m\u001b[0mparams\u001b[0m\u001b[1;33m)\u001b[0m\u001b[1;33m:\u001b[0m\u001b[1;33m\u001b[0m\u001b[0m\n\u001b[0;32m    253\u001b[0m             \u001b[0msplit\u001b[0m \u001b[1;33m=\u001b[0m \u001b[0mkey\u001b[0m\u001b[1;33m.\u001b[0m\u001b[0msplit\u001b[0m\u001b[1;33m(\u001b[0m\u001b[1;34m'__'\u001b[0m\u001b[1;33m,\u001b[0m \u001b[1;36m1\u001b[0m\u001b[1;33m)\u001b[0m\u001b[1;33m\u001b[0m\u001b[0m\n",
      "\u001b[1;32mC:\\Users\\Ivan\\Anaconda2\\lib\\site-packages\\sklearn\\base.pyc\u001b[0m in \u001b[0;36mget_params\u001b[1;34m(self, deep)\u001b[0m\n\u001b[0;32m    212\u001b[0m         \"\"\"\n\u001b[0;32m    213\u001b[0m         \u001b[0mout\u001b[0m \u001b[1;33m=\u001b[0m \u001b[0mdict\u001b[0m\u001b[1;33m(\u001b[0m\u001b[1;33m)\u001b[0m\u001b[1;33m\u001b[0m\u001b[0m\n\u001b[1;32m--> 214\u001b[1;33m         \u001b[1;32mfor\u001b[0m \u001b[0mkey\u001b[0m \u001b[1;32min\u001b[0m \u001b[0mself\u001b[0m\u001b[1;33m.\u001b[0m\u001b[0m_get_param_names\u001b[0m\u001b[1;33m(\u001b[0m\u001b[1;33m)\u001b[0m\u001b[1;33m:\u001b[0m\u001b[1;33m\u001b[0m\u001b[0m\n\u001b[0m\u001b[0;32m    215\u001b[0m             \u001b[1;31m# We need deprecation warnings to always be on in order to\u001b[0m\u001b[1;33m\u001b[0m\u001b[1;33m\u001b[0m\u001b[0m\n\u001b[0;32m    216\u001b[0m             \u001b[1;31m# catch deprecated param values.\u001b[0m\u001b[1;33m\u001b[0m\u001b[1;33m\u001b[0m\u001b[0m\n",
      "\u001b[1;32mC:\\Users\\Ivan\\Anaconda2\\lib\\site-packages\\sklearn\\base.pyc\u001b[0m in \u001b[0;36m_get_param_names\u001b[1;34m(cls)\u001b[0m\n\u001b[0;32m    182\u001b[0m         \u001b[1;31m# introspect the constructor arguments to find the model parameters\u001b[0m\u001b[1;33m\u001b[0m\u001b[1;33m\u001b[0m\u001b[0m\n\u001b[0;32m    183\u001b[0m         \u001b[1;31m# to represent\u001b[0m\u001b[1;33m\u001b[0m\u001b[1;33m\u001b[0m\u001b[0m\n\u001b[1;32m--> 184\u001b[1;33m         \u001b[0minit_signature\u001b[0m \u001b[1;33m=\u001b[0m \u001b[0msignature\u001b[0m\u001b[1;33m(\u001b[0m\u001b[0minit\u001b[0m\u001b[1;33m)\u001b[0m\u001b[1;33m\u001b[0m\u001b[0m\n\u001b[0m\u001b[0;32m    185\u001b[0m         \u001b[1;31m# Consider the constructor parameters excluding 'self'\u001b[0m\u001b[1;33m\u001b[0m\u001b[1;33m\u001b[0m\u001b[0m\n\u001b[0;32m    186\u001b[0m         parameters = [p for p in init_signature.parameters.values()\n",
      "\u001b[1;32mC:\\Users\\Ivan\\Anaconda2\\lib\\site-packages\\sklearn\\externals\\funcsigs.pyc\u001b[0m in \u001b[0;36msignature\u001b[1;34m(obj)\u001b[0m\n\u001b[0;32m     64\u001b[0m             \u001b[1;31m# Unbound method: the first parameter becomes positional-only\u001b[0m\u001b[1;33m\u001b[0m\u001b[1;33m\u001b[0m\u001b[0m\n\u001b[0;32m     65\u001b[0m             \u001b[1;32mif\u001b[0m \u001b[0msig\u001b[0m\u001b[1;33m.\u001b[0m\u001b[0mparameters\u001b[0m\u001b[1;33m:\u001b[0m\u001b[1;33m\u001b[0m\u001b[0m\n\u001b[1;32m---> 66\u001b[1;33m                 first = sig.parameters.values()[0].replace(\n\u001b[0m\u001b[0;32m     67\u001b[0m                     kind=_POSITIONAL_ONLY)\n\u001b[0;32m     68\u001b[0m                 return sig.replace(\n",
      "\u001b[1;32mC:\\Users\\Ivan\\Anaconda2\\lib\\site-packages\\sklearn\\externals\\funcsigs.pyc\u001b[0m in \u001b[0;36mparameters\u001b[1;34m(self)\u001b[0m\n\u001b[0;32m    588\u001b[0m             \u001b[1;32mreturn\u001b[0m \u001b[0mtypes\u001b[0m\u001b[1;33m.\u001b[0m\u001b[0mMappingProxyType\u001b[0m\u001b[1;33m(\u001b[0m\u001b[0mself\u001b[0m\u001b[1;33m.\u001b[0m\u001b[0m_parameters\u001b[0m\u001b[1;33m)\u001b[0m\u001b[1;33m\u001b[0m\u001b[0m\n\u001b[0;32m    589\u001b[0m         \u001b[1;32mexcept\u001b[0m \u001b[0mAttributeError\u001b[0m\u001b[1;33m:\u001b[0m\u001b[1;33m\u001b[0m\u001b[0m\n\u001b[1;32m--> 590\u001b[1;33m             \u001b[1;32mreturn\u001b[0m \u001b[0mOrderedDict\u001b[0m\u001b[1;33m(\u001b[0m\u001b[0mself\u001b[0m\u001b[1;33m.\u001b[0m\u001b[0m_parameters\u001b[0m\u001b[1;33m.\u001b[0m\u001b[0mitems\u001b[0m\u001b[1;33m(\u001b[0m\u001b[1;33m)\u001b[0m\u001b[1;33m)\u001b[0m\u001b[1;33m\u001b[0m\u001b[0m\n\u001b[0m\u001b[0;32m    591\u001b[0m \u001b[1;33m\u001b[0m\u001b[0m\n\u001b[0;32m    592\u001b[0m     \u001b[1;33m@\u001b[0m\u001b[0mproperty\u001b[0m\u001b[1;33m\u001b[0m\u001b[0m\n",
      "\u001b[1;32mC:\\Users\\Ivan\\Anaconda2\\lib\\collections.pyc\u001b[0m in \u001b[0;36mitems\u001b[1;34m(self)\u001b[0m\n\u001b[0;32m    125\u001b[0m     \u001b[1;32mdef\u001b[0m \u001b[0mitems\u001b[0m\u001b[1;33m(\u001b[0m\u001b[0mself\u001b[0m\u001b[1;33m)\u001b[0m\u001b[1;33m:\u001b[0m\u001b[1;33m\u001b[0m\u001b[0m\n\u001b[0;32m    126\u001b[0m         \u001b[1;34m'od.items() -> list of (key, value) pairs in od'\u001b[0m\u001b[1;33m\u001b[0m\u001b[0m\n\u001b[1;32m--> 127\u001b[1;33m         \u001b[1;32mreturn\u001b[0m \u001b[1;33m[\u001b[0m\u001b[1;33m(\u001b[0m\u001b[0mkey\u001b[0m\u001b[1;33m,\u001b[0m \u001b[0mself\u001b[0m\u001b[1;33m[\u001b[0m\u001b[0mkey\u001b[0m\u001b[1;33m]\u001b[0m\u001b[1;33m)\u001b[0m \u001b[1;32mfor\u001b[0m \u001b[0mkey\u001b[0m \u001b[1;32min\u001b[0m \u001b[0mself\u001b[0m\u001b[1;33m]\u001b[0m\u001b[1;33m\u001b[0m\u001b[0m\n\u001b[0m\u001b[0;32m    128\u001b[0m \u001b[1;33m\u001b[0m\u001b[0m\n\u001b[0;32m    129\u001b[0m     \u001b[1;32mdef\u001b[0m \u001b[0miterkeys\u001b[0m\u001b[1;33m(\u001b[0m\u001b[0mself\u001b[0m\u001b[1;33m)\u001b[0m\u001b[1;33m:\u001b[0m\u001b[1;33m\u001b[0m\u001b[0m\n",
      "\u001b[1;32mC:\\Users\\Ivan\\Anaconda2\\lib\\collections.pyc\u001b[0m in \u001b[0;36m__iter__\u001b[1;34m(self)\u001b[0m\n\u001b[0;32m     95\u001b[0m         \u001b[1;32mwhile\u001b[0m \u001b[0mcurr\u001b[0m \u001b[1;32mis\u001b[0m \u001b[1;32mnot\u001b[0m \u001b[0mroot\u001b[0m\u001b[1;33m:\u001b[0m\u001b[1;33m\u001b[0m\u001b[0m\n\u001b[0;32m     96\u001b[0m             \u001b[1;32myield\u001b[0m \u001b[0mcurr\u001b[0m\u001b[1;33m[\u001b[0m\u001b[1;36m2\u001b[0m\u001b[1;33m]\u001b[0m                               \u001b[1;31m# yield the curr[KEY]\u001b[0m\u001b[1;33m\u001b[0m\u001b[0m\n\u001b[1;32m---> 97\u001b[1;33m             \u001b[0mcurr\u001b[0m \u001b[1;33m=\u001b[0m \u001b[0mcurr\u001b[0m\u001b[1;33m[\u001b[0m\u001b[1;36m1\u001b[0m\u001b[1;33m]\u001b[0m                              \u001b[1;31m# move to next node\u001b[0m\u001b[1;33m\u001b[0m\u001b[0m\n\u001b[0m\u001b[0;32m     98\u001b[0m \u001b[1;33m\u001b[0m\u001b[0m\n\u001b[0;32m     99\u001b[0m     \u001b[1;32mdef\u001b[0m \u001b[0m__reversed__\u001b[0m\u001b[1;33m(\u001b[0m\u001b[0mself\u001b[0m\u001b[1;33m)\u001b[0m\u001b[1;33m:\u001b[0m\u001b[1;33m\u001b[0m\u001b[0m\n",
      "\u001b[1;31mKeyboardInterrupt\u001b[0m: "
     ]
    }
   ],
   "source": [
    "rfc = RandomForestClassifier(n_jobs = -1, random_state = RANDOM_SEED)\n",
    "\n",
    "parameters = {'n_estimators':[10,30,50,80,120,300,500,800,1200], 'max_depth':[5,8,15,25,30,None],\n",
    "              'min_samples_split':[1,2,5,10,15,100], 'min_samples_leaf':[1,2,5,10], 'max_features':('sqrt','log2',None)}\n",
    "\n",
    "clf = GridSearchCV(rfc, parameters, scoring = precision_scorer)\n",
    "\n",
    "clf.fit(X_train_reduced, y_train)\n",
    "\n",
    "print(clf.best_estimator_)\n",
    "print(clf.best_score_)\n",
    "rfc = clf.best_estimator_\n",
    "\n",
    "print(\"The score in the training data was %0.4f.\" % (precision_score(y_train,rfc.predict(X_train_reduced))))\n",
    "print(\"The score in the test data was %0.4f.\" % (precision_score(y_test,rfc.predict(X_test_reduced))))"
   ]
  },
  {
   "cell_type": "code",
   "execution_count": null,
   "metadata": {
    "collapsed": true
   },
   "outputs": [],
   "source": [
    "rfc = RandomForestClassifier(n_jobs = -1, random_state = RANDOM_SEED)\n",
    "\n",
    "parameters = {'n_estimators':[10,30,50,80,120,300,500,800,1200], 'max_depth':[5,8,15,25,30,None],\n",
    "              'min_samples_split':[1,2,5,10,15,100], 'min_samples_leaf':[1,2,5,10], 'max_features':('sqrt','log2',None)}\n",
    "\n",
    "clf = GridSearchCV(rfc, parameters, scoring = precision_scorer)\n",
    "\n",
    "clf.fit(X_train, y_train)\n",
    "\n",
    "print(clf.best_estimator_)\n",
    "print(clf.best_score_)\n",
    "rfc = clf.best_estimator_\n",
    "\n",
    "print(\"The score in the training data was %0.4f.\" % (precision_score(y_train,rfc.predict(X_train))))\n",
    "print(\"The score in the test data was %0.4f.\" % (precision_score(y_test,rfc.predict(X_test))))"
   ]
  },
  {
   "cell_type": "code",
   "execution_count": null,
   "metadata": {
    "collapsed": true
   },
   "outputs": [],
   "source": []
  }
 ],
 "metadata": {
  "anaconda-cloud": {},
  "kernelspec": {
   "display_name": "Python [Root]",
   "language": "python",
   "name": "Python [Root]"
  },
  "language_info": {
   "codemirror_mode": {
    "name": "ipython",
    "version": 2
   },
   "file_extension": ".py",
   "mimetype": "text/x-python",
   "name": "python",
   "nbconvert_exporter": "python",
   "pygments_lexer": "ipython2",
   "version": "2.7.12"
  }
 },
 "nbformat": 4,
 "nbformat_minor": 0
}
