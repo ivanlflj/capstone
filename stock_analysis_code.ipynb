{
 "cells": [
  {
   "cell_type": "markdown",
   "metadata": {},
   "source": [
    "# Stock Analysis project\n",
    "## Data gathering\n",
    "The data was gathered from the Bovespa website in the historical quotes [link](http://www.bmfbovespa.com.br/pt_br/servicos/market-data/historico/mercado-a-vista/cotacoes-historicas/). The instructions to interpret the data are in the same website."
   ]
  },
  {
   "cell_type": "code",
   "execution_count": 1,
   "metadata": {
    "collapsed": false
   },
   "outputs": [
    {
     "data": {
      "text/html": [
       "<div>\n",
       "<table border=\"1\" class=\"dataframe\">\n",
       "  <thead>\n",
       "    <tr style=\"text-align: right;\">\n",
       "      <th></th>\n",
       "      <th>close</th>\n",
       "      <th>day</th>\n",
       "      <th>high</th>\n",
       "      <th>low</th>\n",
       "      <th>month</th>\n",
       "      <th>open</th>\n",
       "      <th>volume</th>\n",
       "      <th>year</th>\n",
       "    </tr>\n",
       "  </thead>\n",
       "  <tbody>\n",
       "    <tr>\n",
       "      <th>count</th>\n",
       "      <td>2470.000000</td>\n",
       "      <td>2470.000000</td>\n",
       "      <td>2470.000000</td>\n",
       "      <td>2470.000000</td>\n",
       "      <td>2470.000000</td>\n",
       "      <td>2470.000000</td>\n",
       "      <td>2.470000e+03</td>\n",
       "      <td>2470.000000</td>\n",
       "    </tr>\n",
       "    <tr>\n",
       "      <th>mean</th>\n",
       "      <td>10.052960</td>\n",
       "      <td>15.768421</td>\n",
       "      <td>10.186356</td>\n",
       "      <td>9.895947</td>\n",
       "      <td>6.501619</td>\n",
       "      <td>10.051919</td>\n",
       "      <td>9.869202e+06</td>\n",
       "      <td>2010.503644</td>\n",
       "    </tr>\n",
       "    <tr>\n",
       "      <th>std</th>\n",
       "      <td>1.558419</td>\n",
       "      <td>8.754459</td>\n",
       "      <td>1.557275</td>\n",
       "      <td>1.551361</td>\n",
       "      <td>3.413070</td>\n",
       "      <td>1.558657</td>\n",
       "      <td>6.455192e+06</td>\n",
       "      <td>2.870181</td>\n",
       "    </tr>\n",
       "    <tr>\n",
       "      <th>min</th>\n",
       "      <td>5.040000</td>\n",
       "      <td>1.000000</td>\n",
       "      <td>5.240000</td>\n",
       "      <td>4.820000</td>\n",
       "      <td>1.000000</td>\n",
       "      <td>5.000000</td>\n",
       "      <td>8.920000e+05</td>\n",
       "      <td>2006.000000</td>\n",
       "    </tr>\n",
       "    <tr>\n",
       "      <th>25%</th>\n",
       "      <td>8.890000</td>\n",
       "      <td>8.000000</td>\n",
       "      <td>9.020000</td>\n",
       "      <td>8.760000</td>\n",
       "      <td>4.000000</td>\n",
       "      <td>8.902500</td>\n",
       "      <td>5.397350e+06</td>\n",
       "      <td>2008.000000</td>\n",
       "    </tr>\n",
       "    <tr>\n",
       "      <th>50%</th>\n",
       "      <td>9.840000</td>\n",
       "      <td>16.000000</td>\n",
       "      <td>9.980000</td>\n",
       "      <td>9.690000</td>\n",
       "      <td>7.000000</td>\n",
       "      <td>9.830000</td>\n",
       "      <td>8.430600e+06</td>\n",
       "      <td>2011.000000</td>\n",
       "    </tr>\n",
       "    <tr>\n",
       "      <th>75%</th>\n",
       "      <td>11.327500</td>\n",
       "      <td>23.000000</td>\n",
       "      <td>11.495000</td>\n",
       "      <td>11.147500</td>\n",
       "      <td>9.000000</td>\n",
       "      <td>11.347500</td>\n",
       "      <td>1.256762e+07</td>\n",
       "      <td>2013.000000</td>\n",
       "    </tr>\n",
       "    <tr>\n",
       "      <th>max</th>\n",
       "      <td>13.990000</td>\n",
       "      <td>31.000000</td>\n",
       "      <td>14.060000</td>\n",
       "      <td>13.830000</td>\n",
       "      <td>12.000000</td>\n",
       "      <td>14.050000</td>\n",
       "      <td>7.177790e+07</td>\n",
       "      <td>2015.000000</td>\n",
       "    </tr>\n",
       "  </tbody>\n",
       "</table>\n",
       "</div>"
      ],
      "text/plain": [
       "             close          day         high          low        month  \\\n",
       "count  2470.000000  2470.000000  2470.000000  2470.000000  2470.000000   \n",
       "mean     10.052960    15.768421    10.186356     9.895947     6.501619   \n",
       "std       1.558419     8.754459     1.557275     1.551361     3.413070   \n",
       "min       5.040000     1.000000     5.240000     4.820000     1.000000   \n",
       "25%       8.890000     8.000000     9.020000     8.760000     4.000000   \n",
       "50%       9.840000    16.000000     9.980000     9.690000     7.000000   \n",
       "75%      11.327500    23.000000    11.495000    11.147500     9.000000   \n",
       "max      13.990000    31.000000    14.060000    13.830000    12.000000   \n",
       "\n",
       "              open        volume         year  \n",
       "count  2470.000000  2.470000e+03  2470.000000  \n",
       "mean     10.051919  9.869202e+06  2010.503644  \n",
       "std       1.558657  6.455192e+06     2.870181  \n",
       "min       5.000000  8.920000e+05  2006.000000  \n",
       "25%       8.902500  5.397350e+06  2008.000000  \n",
       "50%       9.830000  8.430600e+06  2011.000000  \n",
       "75%      11.347500  1.256762e+07  2013.000000  \n",
       "max      14.050000  7.177790e+07  2015.000000  "
      ]
     },
     "execution_count": 1,
     "metadata": {},
     "output_type": "execute_result"
    }
   ],
   "source": [
    "%matplotlib inline\n",
    "\n",
    "# All imports\n",
    "import matplotlib\n",
    "import numpy as np\n",
    "import matplotlib.pyplot as plt\n",
    "import pandas as pd\n",
    "import datetime\n",
    "from sklearn.cross_validation import train_test_split\n",
    "from sklearn.decomposition import FastICA\n",
    "from sklearn.decomposition import PCA\n",
    "from sklearn.feature_selection import SelectKBest\n",
    "from sklearn.feature_selection import f_classif\n",
    "from sklearn.grid_search import GridSearchCV\n",
    "from sklearn.metrics import precision_score\n",
    "from sklearn.metrics import make_scorer\n",
    "from sklearn.svm import SVC\n",
    "from sklearn.neighbors import KNeighborsClassifier\n",
    "from sklearn.ensemble import AdaBoostClassifier\n",
    "from sklearn.ensemble import RandomForestClassifier\n",
    "\n",
    "# Constants\n",
    "RANDOM_SEED = 42\n",
    "\n",
    "# Data gathering for ITSA4\n",
    "paths = ['stock_price\\\\inputs\\\\COTAHIST_A2006.TXT','stock_price\\\\inputs\\\\COTAHIST_A2007.TXT',\n",
    "        'stock_price\\\\inputs\\\\COTAHIST_A2008.TXT','stock_price\\\\inputs\\\\COTAHIST_A2009.TXT',\n",
    "        'stock_price\\\\inputs\\\\COTAHIST_A2010.TXT','stock_price\\\\inputs\\\\COTAHIST_A2011.TXT',\n",
    "        'stock_price\\\\inputs\\\\COTAHIST_A2012.TXT','stock_price\\\\inputs\\\\COTAHIST_A2013.TXT',\n",
    "        'stock_price\\\\inputs\\\\COTAHIST_A2014.TXT','stock_price\\\\inputs\\\\COTAHIST_A2015.TXT']\n",
    "df = pd.DataFrame()\n",
    "for path in paths:\n",
    "    file = open(path,'r')\n",
    "    for line in file:\n",
    "        if (line[12:18] == 'ITSA4 '):\n",
    "            df = df.append({'year': int(line[2:6]),'month': int(line[6:8]),'day': int(line[8:10]),\n",
    "                            'open': int(line[56:69])/100.,'high': int(line[69:82])/100.,\n",
    "                            'low': int(line[82:95])/100.,'close': int(line[108:121])/100.,\n",
    "                            'volume': int(line[152:170])},ignore_index=True)\n",
    "    file.close\n",
    "df.describe()"
   ]
  },
  {
   "cell_type": "markdown",
   "metadata": {},
   "source": [
    "## Technical analysis\n",
    "The main data has already been gathered. Now it is time to use what is called technical analysis to improve the data we already have.\n",
    "\n",
    "The technical analysis consideres that the price movement of a stock reflects every thing that you need to know about the stock. The following image shows the analysis of a technical analist:\n",
    "\n",
    "![Analysis of a technical analist](http://www.liberatedstocktrader.com/wp-content/uploads/stock-market-analysis-sept-20-2010.jpg)\n",
    "\n",
    "To perform this analysis there is some indicators (calculated from the prizes) that are used for the behaviour prediction. We will use [Moving Averages](http://www.investopedia.com/terms/m/movingaverage.asp) for 5, 8, 21 and 50 periods.\n",
    "\n",
    "It is important to notice that we will only have the data for previous periods and not from our period. So to start we will make every date know about its 50 previous closing prices"
   ]
  },
  {
   "cell_type": "code",
   "execution_count": 2,
   "metadata": {
    "collapsed": false
   },
   "outputs": [
    {
     "data": {
      "text/plain": [
       "<matplotlib.collections.PathCollection at 0xc14fa20>"
      ]
     },
     "execution_count": 2,
     "metadata": {},
     "output_type": "execute_result"
    },
    {
     "data": {
      "image/png": "[encoded data removed]",
      "text/plain": [
       "<matplotlib.figure.Figure at 0x765e588>"
      ]
     },
     "metadata": {},
     "output_type": "display_data"
    }
   ],
   "source": [
    "# Knowing the past\n",
    "for i in range(1,50 + 1):\n",
    "    df['close'+str(i)] = -1\n",
    "    for j in range(50,len(df)):\n",
    "        df.loc[j,'close'+str(i)] = df.loc[j-i,'close']\n",
    "for i in range(1,50 + 1):\n",
    "    df['low'+str(i)] = -1\n",
    "    for j in range(50,len(df)):\n",
    "        df.loc[j,'low'+str(i)] = df.loc[j-i,'low']\n",
    "for i in range(1,50 + 1):\n",
    "    df['high'+str(i)] = -1\n",
    "    for j in range(50,len(df)):\n",
    "        df.loc[j,'high'+str(i)] = df.loc[j-i,'high']\n",
    "for i in range(1,50 + 1):\n",
    "    df['open'+str(i)] = -1\n",
    "    for j in range(50,len(df)):\n",
    "        df.loc[j,'open'+str(i)] = df.loc[j-i,'open']\n",
    "\n",
    "# Verify if the code worked\n",
    "plt.scatter(df.index.tolist(),df['close'].values,c='c')\n",
    "plt.scatter(df.index.tolist(),df['close50'].values)"
   ]
  },
  {
   "cell_type": "code",
   "execution_count": 3,
   "metadata": {
    "collapsed": false
   },
   "outputs": [
    {
     "data": {
      "text/plain": [
       "<matplotlib.collections.PathCollection at 0xb4c21d0>"
      ]
     },
     "execution_count": 3,
     "metadata": {},
     "output_type": "execute_result"
    },
    {
     "data": {
      "image/png": "[encoded data removed]",
      "text/plain": [
       "<matplotlib.figure.Figure at 0x430d080>"
      ]
     },
     "metadata": {},
     "output_type": "display_data"
    }
   ],
   "source": [
    "# Create the moving averages\n",
    "for i in (5,8,21,50):\n",
    "    df['MA'+str(i)] = -1\n",
    "    for j in range(50,len(df)):\n",
    "        sum = 0\n",
    "        for k in range(1,i+1):\n",
    "            sum += df.loc[j,'close'+str(k)]\n",
    "        df.loc[j,'MA'+str(i)] = sum/i\n",
    "\n",
    "# Verify if the code worked\n",
    "plt.scatter(df.index.tolist(),df['close'].values,c='c')\n",
    "plt.scatter(df.index.tolist(),df['MA50'].values)"
   ]
  },
  {
   "cell_type": "markdown",
   "metadata": {},
   "source": [
    "We also want to know which day of the week it is. There is some studies that argue that a stock has a higher probability of moving up depending of the day of the week."
   ]
  },
  {
   "cell_type": "code",
   "execution_count": 4,
   "metadata": {
    "collapsed": false
   },
   "outputs": [],
   "source": [
    "df['week_day']=-1\n",
    "for i in range(len(df)):\n",
    "    df.loc[i,'week_day'] = datetime.datetime(int(df.loc[i,'year']), int(df.loc[i,'month']), int(df.loc[i,'day'])).weekday()\n",
    "# Just for information Monday to Sunday is 0 to 6"
   ]
  },
  {
   "cell_type": "markdown",
   "metadata": {},
   "source": [
    "The volume that we have are also from the last days. In the case of the volume we will gather only the volume for the last 5 days."
   ]
  },
  {
   "cell_type": "code",
   "execution_count": 5,
   "metadata": {
    "collapsed": false
   },
   "outputs": [
    {
     "data": {
      "text/plain": [
       "<matplotlib.collections.PathCollection at 0xc5bbd68>"
      ]
     },
     "execution_count": 5,
     "metadata": {},
     "output_type": "execute_result"
    },
    {
     "data": {
      "image/png": "[encoded data removed]",
      "text/plain": [
       "<matplotlib.figure.Figure at 0x42fdc50>"
      ]
     },
     "metadata": {},
     "output_type": "display_data"
    }
   ],
   "source": [
    "for i in range(1,5 + 1):\n",
    "    df['volume'+str(i)] = -1\n",
    "    for j in range(5,len(df)):\n",
    "        df.loc[j,'volume'+str(i)] = df.loc[j-i,'volume']\n",
    "\n",
    "# Verify if the code worked\n",
    "plt.scatter(df.index.tolist(),df['volume'].values,c='c')\n",
    "plt.scatter(df.index.tolist(),df['volume5'].values)"
   ]
  },
  {
   "cell_type": "markdown",
   "metadata": {},
   "source": [
    "## Preparing the data to use\n",
    "Since the price of the stock varies alot, the important aspect here is the movement relative to the last price. So every price show be divided by the last price (close1) so we have the relative price of the movements until here.\n",
    "We will do the same for the volumes (volume1)."
   ]
  },
  {
   "cell_type": "code",
   "execution_count": 6,
   "metadata": {
    "collapsed": false
   },
   "outputs": [],
   "source": [
    "df.loc[:,'close'] = df.loc[:,'close']/df.loc[:,'close1']\n",
    "df.loc[:,'low'] = df.loc[:,'low']/df.loc[:,'close1']\n",
    "df.loc[:,'high'] = df.loc[:,'high']/df.loc[:,'close1']\n",
    "df.loc[:,'open'] = df.loc[:,'open']/df.loc[:,'close1']\n",
    "\n",
    "for i in range(2,50+1):\n",
    "    df.loc[:,'close'+str(i)] = df.loc[:,'close'+str(i)]/df.loc[:,'close1']\n",
    "    df.loc[:,'low'+str(i)] = df.loc[:,'low'+str(i)]/df.loc[:,'close1']\n",
    "    df.loc[:,'high'+str(i)] = df.loc[:,'high'+str(i)]/df.loc[:,'close1']\n",
    "    df.loc[:,'open'+str(i)] = df.loc[:,'open'+str(i)]/df.loc[:,'close1']\n",
    "    \n",
    "for i in (5,8,21,50):\n",
    "    df.loc[:, 'MA'+str(i)] = df.loc[:, 'MA'+str(i)]/df.loc[:,'close1']\n",
    "\n",
    "df.loc[:,'open1'] = df.loc[:,'open1']/df.loc[:,'close1']\n",
    "df.loc[:,'high1'] = df.loc[:,'high1']/df.loc[:,'close1']\n",
    "df.loc[:,'low1'] = df.loc[:,'low1']/df.loc[:,'close1']\n",
    "df.loc[:,'close1'] = df.loc[:,'close1']/df.loc[:,'close1']"
   ]
  },
  {
   "cell_type": "markdown",
   "metadata": {},
   "source": [
    "We will do the same for the volumes (volume1)."
   ]
  },
  {
   "cell_type": "code",
   "execution_count": 7,
   "metadata": {
    "collapsed": false
   },
   "outputs": [],
   "source": [
    "df.loc[:,'volume'] = df.loc[:,'volume']/df.loc[:,'volume1']\n",
    "\n",
    "for i in range(2,5+1):\n",
    "    df.loc[:,'volume'+str(i)] = df.loc[:,'volume'+str(i)]/df.loc[:,'volume1']\n",
    "    \n",
    "df.loc[:,'volume1'] = df.loc[:,'volume1']/df.loc[:,'volume1']"
   ]
  },
  {
   "cell_type": "markdown",
   "metadata": {},
   "source": [
    "## Clean the data\n",
    "Since the data is now read, we need to erase the 50 first days. They do not have all the indicators that we need for the analysis and it can bring some problems."
   ]
  },
  {
   "cell_type": "code",
   "execution_count": 8,
   "metadata": {
    "collapsed": false
   },
   "outputs": [
    {
     "data": {
      "text/html": [
       "<div>\n",
       "<table border=\"1\" class=\"dataframe\">\n",
       "  <thead>\n",
       "    <tr style=\"text-align: right;\">\n",
       "      <th></th>\n",
       "      <th>index</th>\n",
       "      <th>close</th>\n",
       "      <th>day</th>\n",
       "      <th>high</th>\n",
       "      <th>low</th>\n",
       "      <th>month</th>\n",
       "      <th>open</th>\n",
       "      <th>volume</th>\n",
       "      <th>year</th>\n",
       "      <th>close1</th>\n",
       "      <th>...</th>\n",
       "      <th>MA5</th>\n",
       "      <th>MA8</th>\n",
       "      <th>MA21</th>\n",
       "      <th>MA50</th>\n",
       "      <th>week_day</th>\n",
       "      <th>volume1</th>\n",
       "      <th>volume2</th>\n",
       "      <th>volume3</th>\n",
       "      <th>volume4</th>\n",
       "      <th>volume5</th>\n",
       "    </tr>\n",
       "  </thead>\n",
       "  <tbody>\n",
       "    <tr>\n",
       "      <th>count</th>\n",
       "      <td>2420.000000</td>\n",
       "      <td>2420.000000</td>\n",
       "      <td>2420.000000</td>\n",
       "      <td>2420.000000</td>\n",
       "      <td>2420.000000</td>\n",
       "      <td>2420.000000</td>\n",
       "      <td>2420.000000</td>\n",
       "      <td>2420.000000</td>\n",
       "      <td>2420.000000</td>\n",
       "      <td>2420.0</td>\n",
       "      <td>...</td>\n",
       "      <td>2420.000000</td>\n",
       "      <td>2420.000000</td>\n",
       "      <td>2420.000000</td>\n",
       "      <td>2420.000000</td>\n",
       "      <td>2420.000000</td>\n",
       "      <td>2420.0</td>\n",
       "      <td>2420.000000</td>\n",
       "      <td>2420.000000</td>\n",
       "      <td>2420.000000</td>\n",
       "      <td>2420.000000</td>\n",
       "    </tr>\n",
       "    <tr>\n",
       "      <th>mean</th>\n",
       "      <td>1259.500000</td>\n",
       "      <td>1.000148</td>\n",
       "      <td>15.827686</td>\n",
       "      <td>1.013691</td>\n",
       "      <td>0.984216</td>\n",
       "      <td>6.598760</td>\n",
       "      <td>0.999922</td>\n",
       "      <td>1.091569</td>\n",
       "      <td>2010.596694</td>\n",
       "      <td>1.0</td>\n",
       "      <td>...</td>\n",
       "      <td>1.000783</td>\n",
       "      <td>1.001311</td>\n",
       "      <td>1.003105</td>\n",
       "      <td>1.006347</td>\n",
       "      <td>1.995868</td>\n",
       "      <td>1.0</td>\n",
       "      <td>1.090639</td>\n",
       "      <td>1.112967</td>\n",
       "      <td>1.124177</td>\n",
       "      <td>1.126649</td>\n",
       "    </tr>\n",
       "    <tr>\n",
       "      <th>std</th>\n",
       "      <td>698.738148</td>\n",
       "      <td>0.023617</td>\n",
       "      <td>8.758794</td>\n",
       "      <td>0.018685</td>\n",
       "      <td>0.018869</td>\n",
       "      <td>3.378029</td>\n",
       "      <td>0.013028</td>\n",
       "      <td>0.484045</td>\n",
       "      <td>2.824945</td>\n",
       "      <td>0.0</td>\n",
       "      <td>...</td>\n",
       "      <td>0.025925</td>\n",
       "      <td>0.034205</td>\n",
       "      <td>0.052738</td>\n",
       "      <td>0.077034</td>\n",
       "      <td>1.409816</td>\n",
       "      <td>0.0</td>\n",
       "      <td>0.489919</td>\n",
       "      <td>0.566877</td>\n",
       "      <td>0.600116</td>\n",
       "      <td>0.609671</td>\n",
       "    </tr>\n",
       "    <tr>\n",
       "      <th>min</th>\n",
       "      <td>50.000000</td>\n",
       "      <td>0.884451</td>\n",
       "      <td>1.000000</td>\n",
       "      <td>0.915966</td>\n",
       "      <td>0.804598</td>\n",
       "      <td>1.000000</td>\n",
       "      <td>0.897292</td>\n",
       "      <td>0.148279</td>\n",
       "      <td>2006.000000</td>\n",
       "      <td>1.0</td>\n",
       "      <td>...</td>\n",
       "      <td>0.830043</td>\n",
       "      <td>0.758409</td>\n",
       "      <td>0.800945</td>\n",
       "      <td>0.844419</td>\n",
       "      <td>0.000000</td>\n",
       "      <td>1.0</td>\n",
       "      <td>0.155512</td>\n",
       "      <td>0.214063</td>\n",
       "      <td>0.107376</td>\n",
       "      <td>0.177112</td>\n",
       "    </tr>\n",
       "    <tr>\n",
       "      <th>25%</th>\n",
       "      <td>654.750000</td>\n",
       "      <td>0.987614</td>\n",
       "      <td>8.000000</td>\n",
       "      <td>1.003876</td>\n",
       "      <td>0.976634</td>\n",
       "      <td>4.000000</td>\n",
       "      <td>0.994764</td>\n",
       "      <td>0.759577</td>\n",
       "      <td>2008.000000</td>\n",
       "      <td>1.0</td>\n",
       "      <td>...</td>\n",
       "      <td>0.985563</td>\n",
       "      <td>0.980498</td>\n",
       "      <td>0.969461</td>\n",
       "      <td>0.951452</td>\n",
       "      <td>1.000000</td>\n",
       "      <td>1.0</td>\n",
       "      <td>0.757911</td>\n",
       "      <td>0.734696</td>\n",
       "      <td>0.725392</td>\n",
       "      <td>0.726525</td>\n",
       "    </tr>\n",
       "    <tr>\n",
       "      <th>50%</th>\n",
       "      <td>1259.500000</td>\n",
       "      <td>1.000000</td>\n",
       "      <td>16.000000</td>\n",
       "      <td>1.010712</td>\n",
       "      <td>0.986952</td>\n",
       "      <td>7.000000</td>\n",
       "      <td>1.000000</td>\n",
       "      <td>0.996591</td>\n",
       "      <td>2011.000000</td>\n",
       "      <td>1.0</td>\n",
       "      <td>...</td>\n",
       "      <td>1.000254</td>\n",
       "      <td>0.999838</td>\n",
       "      <td>0.996713</td>\n",
       "      <td>0.997288</td>\n",
       "      <td>2.000000</td>\n",
       "      <td>1.0</td>\n",
       "      <td>1.003922</td>\n",
       "      <td>0.990703</td>\n",
       "      <td>0.998705</td>\n",
       "      <td>0.988535</td>\n",
       "    </tr>\n",
       "    <tr>\n",
       "      <th>75%</th>\n",
       "      <td>1864.250000</td>\n",
       "      <td>1.011497</td>\n",
       "      <td>23.000000</td>\n",
       "      <td>1.020516</td>\n",
       "      <td>0.995135</td>\n",
       "      <td>9.000000</td>\n",
       "      <td>1.005638</td>\n",
       "      <td>1.321244</td>\n",
       "      <td>2013.000000</td>\n",
       "      <td>1.0</td>\n",
       "      <td>...</td>\n",
       "      <td>1.014594</td>\n",
       "      <td>1.019410</td>\n",
       "      <td>1.031469</td>\n",
       "      <td>1.044716</td>\n",
       "      <td>3.000000</td>\n",
       "      <td>1.0</td>\n",
       "      <td>1.316523</td>\n",
       "      <td>1.344790</td>\n",
       "      <td>1.357989</td>\n",
       "      <td>1.382446</td>\n",
       "    </tr>\n",
       "    <tr>\n",
       "      <th>max</th>\n",
       "      <td>2469.000000</td>\n",
       "      <td>1.251471</td>\n",
       "      <td>31.000000</td>\n",
       "      <td>1.251471</td>\n",
       "      <td>1.070833</td>\n",
       "      <td>12.000000</td>\n",
       "      <td>1.131944</td>\n",
       "      <td>6.430380</td>\n",
       "      <td>2015.000000</td>\n",
       "      <td>1.0</td>\n",
       "      <td>...</td>\n",
       "      <td>1.216830</td>\n",
       "      <td>1.295988</td>\n",
       "      <td>1.512068</td>\n",
       "      <td>1.692698</td>\n",
       "      <td>4.000000</td>\n",
       "      <td>1.0</td>\n",
       "      <td>6.744062</td>\n",
       "      <td>6.564526</td>\n",
       "      <td>9.389013</td>\n",
       "      <td>6.948186</td>\n",
       "    </tr>\n",
       "  </tbody>\n",
       "</table>\n",
       "<p>8 rows × 219 columns</p>\n",
       "</div>"
      ],
      "text/plain": [
       "             index        close          day         high          low  \\\n",
       "count  2420.000000  2420.000000  2420.000000  2420.000000  2420.000000   \n",
       "mean   1259.500000     1.000148    15.827686     1.013691     0.984216   \n",
       "std     698.738148     0.023617     8.758794     0.018685     0.018869   \n",
       "min      50.000000     0.884451     1.000000     0.915966     0.804598   \n",
       "25%     654.750000     0.987614     8.000000     1.003876     0.976634   \n",
       "50%    1259.500000     1.000000    16.000000     1.010712     0.986952   \n",
       "75%    1864.250000     1.011497    23.000000     1.020516     0.995135   \n",
       "max    2469.000000     1.251471    31.000000     1.251471     1.070833   \n",
       "\n",
       "             month         open       volume         year  close1  \\\n",
       "count  2420.000000  2420.000000  2420.000000  2420.000000  2420.0   \n",
       "mean      6.598760     0.999922     1.091569  2010.596694     1.0   \n",
       "std       3.378029     0.013028     0.484045     2.824945     0.0   \n",
       "min       1.000000     0.897292     0.148279  2006.000000     1.0   \n",
       "25%       4.000000     0.994764     0.759577  2008.000000     1.0   \n",
       "50%       7.000000     1.000000     0.996591  2011.000000     1.0   \n",
       "75%       9.000000     1.005638     1.321244  2013.000000     1.0   \n",
       "max      12.000000     1.131944     6.430380  2015.000000     1.0   \n",
       "\n",
       "          ...               MA5          MA8         MA21         MA50  \\\n",
       "count     ...       2420.000000  2420.000000  2420.000000  2420.000000   \n",
       "mean      ...          1.000783     1.001311     1.003105     1.006347   \n",
       "std       ...          0.025925     0.034205     0.052738     0.077034   \n",
       "min       ...          0.830043     0.758409     0.800945     0.844419   \n",
       "25%       ...          0.985563     0.980498     0.969461     0.951452   \n",
       "50%       ...          1.000254     0.999838     0.996713     0.997288   \n",
       "75%       ...          1.014594     1.019410     1.031469     1.044716   \n",
       "max       ...          1.216830     1.295988     1.512068     1.692698   \n",
       "\n",
       "          week_day  volume1      volume2      volume3      volume4  \\\n",
       "count  2420.000000   2420.0  2420.000000  2420.000000  2420.000000   \n",
       "mean      1.995868      1.0     1.090639     1.112967     1.124177   \n",
       "std       1.409816      0.0     0.489919     0.566877     0.600116   \n",
       "min       0.000000      1.0     0.155512     0.214063     0.107376   \n",
       "25%       1.000000      1.0     0.757911     0.734696     0.725392   \n",
       "50%       2.000000      1.0     1.003922     0.990703     0.998705   \n",
       "75%       3.000000      1.0     1.316523     1.344790     1.357989   \n",
       "max       4.000000      1.0     6.744062     6.564526     9.389013   \n",
       "\n",
       "           volume5  \n",
       "count  2420.000000  \n",
       "mean      1.126649  \n",
       "std       0.609671  \n",
       "min       0.177112  \n",
       "25%       0.726525  \n",
       "50%       0.988535  \n",
       "75%       1.382446  \n",
       "max       6.948186  \n",
       "\n",
       "[8 rows x 219 columns]"
      ]
     },
     "execution_count": 8,
     "metadata": {},
     "output_type": "execute_result"
    }
   ],
   "source": [
    "df = df.loc[50:].reset_index()\n",
    "\n",
    "df.describe()"
   ]
  },
  {
   "cell_type": "markdown",
   "metadata": {},
   "source": [
    "## Preparing the target\n",
    "Until now we have not prepared the target, the target will be a data frame that gives 1 when price close higher than price open, otherwise it returns 1."
   ]
  },
  {
   "cell_type": "code",
   "execution_count": 9,
   "metadata": {
    "collapsed": false
   },
   "outputs": [
    {
     "data": {
      "text/plain": [
       "(array([ 1245.,     0.,     0.,     0.,     0.,     0.,     0.,     0.,\n",
       "            0.,  1175.]),\n",
       " array([ 0. ,  0.1,  0.2,  0.3,  0.4,  0.5,  0.6,  0.7,  0.8,  0.9,  1. ]),\n",
       " <a list of 10 Patch objects>)"
      ]
     },
     "execution_count": 9,
     "metadata": {},
     "output_type": "execute_result"
    },
    {
     "data": {
      "image/png": "[encoded data removed]",
      "text/plain": [
       "<matplotlib.figure.Figure at 0xb387240>"
      ]
     },
     "metadata": {},
     "output_type": "display_data"
    }
   ],
   "source": [
    "y_all = []\n",
    "\n",
    "for i in range(len(df)):\n",
    "    is_higher = (1 if (df.loc[i,'close']/df.loc[i,'open'] > 1.) else 0)\n",
    "    y_all.extend([is_higher])\n",
    "    \n",
    "plt.hist(y_all)"
   ]
  },
  {
   "cell_type": "markdown",
   "metadata": {},
   "source": [
    "We can see that it is almost a 50% chance for the day to close higher or not."
   ]
  },
  {
   "cell_type": "markdown",
   "metadata": {},
   "source": [
    "## Prepare data\n",
    "Now that we have the target we can clean our data to start the work."
   ]
  },
  {
   "cell_type": "code",
   "execution_count": 10,
   "metadata": {
    "collapsed": false
   },
   "outputs": [
    {
     "data": {
      "text/html": [
       "<div>\n",
       "<table border=\"1\" class=\"dataframe\">\n",
       "  <thead>\n",
       "    <tr style=\"text-align: right;\">\n",
       "      <th></th>\n",
       "      <th>day</th>\n",
       "      <th>month</th>\n",
       "      <th>year</th>\n",
       "      <th>close1</th>\n",
       "      <th>close2</th>\n",
       "      <th>close3</th>\n",
       "      <th>close4</th>\n",
       "      <th>close5</th>\n",
       "      <th>close6</th>\n",
       "      <th>close7</th>\n",
       "      <th>...</th>\n",
       "      <th>MA5</th>\n",
       "      <th>MA8</th>\n",
       "      <th>MA21</th>\n",
       "      <th>MA50</th>\n",
       "      <th>week_day</th>\n",
       "      <th>volume1</th>\n",
       "      <th>volume2</th>\n",
       "      <th>volume3</th>\n",
       "      <th>volume4</th>\n",
       "      <th>volume5</th>\n",
       "    </tr>\n",
       "  </thead>\n",
       "  <tbody>\n",
       "    <tr>\n",
       "      <th>count</th>\n",
       "      <td>2420.000000</td>\n",
       "      <td>2420.000000</td>\n",
       "      <td>2420.000000</td>\n",
       "      <td>2420.0</td>\n",
       "      <td>2420.000000</td>\n",
       "      <td>2420.000000</td>\n",
       "      <td>2420.000000</td>\n",
       "      <td>2420.000000</td>\n",
       "      <td>2420.000000</td>\n",
       "      <td>2420.000000</td>\n",
       "      <td>...</td>\n",
       "      <td>2420.000000</td>\n",
       "      <td>2420.000000</td>\n",
       "      <td>2420.000000</td>\n",
       "      <td>2420.000000</td>\n",
       "      <td>2420.000000</td>\n",
       "      <td>2420.0</td>\n",
       "      <td>2420.000000</td>\n",
       "      <td>2420.000000</td>\n",
       "      <td>2420.000000</td>\n",
       "      <td>2420.000000</td>\n",
       "    </tr>\n",
       "    <tr>\n",
       "      <th>mean</th>\n",
       "      <td>15.827686</td>\n",
       "      <td>6.598760</td>\n",
       "      <td>2010.596694</td>\n",
       "      <td>1.0</td>\n",
       "      <td>1.000400</td>\n",
       "      <td>1.000799</td>\n",
       "      <td>1.001191</td>\n",
       "      <td>1.001525</td>\n",
       "      <td>1.001878</td>\n",
       "      <td>1.002201</td>\n",
       "      <td>...</td>\n",
       "      <td>1.000783</td>\n",
       "      <td>1.001311</td>\n",
       "      <td>1.003105</td>\n",
       "      <td>1.006347</td>\n",
       "      <td>1.995868</td>\n",
       "      <td>1.0</td>\n",
       "      <td>1.090639</td>\n",
       "      <td>1.112967</td>\n",
       "      <td>1.124177</td>\n",
       "      <td>1.126649</td>\n",
       "    </tr>\n",
       "    <tr>\n",
       "      <th>std</th>\n",
       "      <td>8.758794</td>\n",
       "      <td>3.378029</td>\n",
       "      <td>2.824945</td>\n",
       "      <td>0.0</td>\n",
       "      <td>0.023444</td>\n",
       "      <td>0.033641</td>\n",
       "      <td>0.041435</td>\n",
       "      <td>0.047055</td>\n",
       "      <td>0.052056</td>\n",
       "      <td>0.056340</td>\n",
       "      <td>...</td>\n",
       "      <td>0.025925</td>\n",
       "      <td>0.034205</td>\n",
       "      <td>0.052738</td>\n",
       "      <td>0.077034</td>\n",
       "      <td>1.409816</td>\n",
       "      <td>0.0</td>\n",
       "      <td>0.489919</td>\n",
       "      <td>0.566877</td>\n",
       "      <td>0.600116</td>\n",
       "      <td>0.609671</td>\n",
       "    </tr>\n",
       "    <tr>\n",
       "      <th>min</th>\n",
       "      <td>1.000000</td>\n",
       "      <td>1.000000</td>\n",
       "      <td>2006.000000</td>\n",
       "      <td>1.0</td>\n",
       "      <td>0.799060</td>\n",
       "      <td>0.781609</td>\n",
       "      <td>0.721030</td>\n",
       "      <td>0.680437</td>\n",
       "      <td>0.612394</td>\n",
       "      <td>0.574686</td>\n",
       "      <td>...</td>\n",
       "      <td>0.830043</td>\n",
       "      <td>0.758409</td>\n",
       "      <td>0.800945</td>\n",
       "      <td>0.844419</td>\n",
       "      <td>0.000000</td>\n",
       "      <td>1.0</td>\n",
       "      <td>0.155512</td>\n",
       "      <td>0.214063</td>\n",
       "      <td>0.107376</td>\n",
       "      <td>0.177112</td>\n",
       "    </tr>\n",
       "    <tr>\n",
       "      <th>25%</th>\n",
       "      <td>8.000000</td>\n",
       "      <td>4.000000</td>\n",
       "      <td>2008.000000</td>\n",
       "      <td>1.0</td>\n",
       "      <td>0.988634</td>\n",
       "      <td>0.981553</td>\n",
       "      <td>0.977162</td>\n",
       "      <td>0.974541</td>\n",
       "      <td>0.970942</td>\n",
       "      <td>0.968135</td>\n",
       "      <td>...</td>\n",
       "      <td>0.985563</td>\n",
       "      <td>0.980498</td>\n",
       "      <td>0.969461</td>\n",
       "      <td>0.951452</td>\n",
       "      <td>1.000000</td>\n",
       "      <td>1.0</td>\n",
       "      <td>0.757911</td>\n",
       "      <td>0.734696</td>\n",
       "      <td>0.725392</td>\n",
       "      <td>0.726525</td>\n",
       "    </tr>\n",
       "    <tr>\n",
       "      <th>50%</th>\n",
       "      <td>16.000000</td>\n",
       "      <td>7.000000</td>\n",
       "      <td>2011.000000</td>\n",
       "      <td>1.0</td>\n",
       "      <td>1.000000</td>\n",
       "      <td>1.000000</td>\n",
       "      <td>1.000000</td>\n",
       "      <td>1.000938</td>\n",
       "      <td>1.001033</td>\n",
       "      <td>1.000854</td>\n",
       "      <td>...</td>\n",
       "      <td>1.000254</td>\n",
       "      <td>0.999838</td>\n",
       "      <td>0.996713</td>\n",
       "      <td>0.997288</td>\n",
       "      <td>2.000000</td>\n",
       "      <td>1.0</td>\n",
       "      <td>1.003922</td>\n",
       "      <td>0.990703</td>\n",
       "      <td>0.998705</td>\n",
       "      <td>0.988535</td>\n",
       "    </tr>\n",
       "    <tr>\n",
       "      <th>75%</th>\n",
       "      <td>23.000000</td>\n",
       "      <td>9.000000</td>\n",
       "      <td>2013.000000</td>\n",
       "      <td>1.0</td>\n",
       "      <td>1.012458</td>\n",
       "      <td>1.018640</td>\n",
       "      <td>1.023225</td>\n",
       "      <td>1.027251</td>\n",
       "      <td>1.029356</td>\n",
       "      <td>1.031764</td>\n",
       "      <td>...</td>\n",
       "      <td>1.014594</td>\n",
       "      <td>1.019410</td>\n",
       "      <td>1.031469</td>\n",
       "      <td>1.044716</td>\n",
       "      <td>3.000000</td>\n",
       "      <td>1.0</td>\n",
       "      <td>1.316523</td>\n",
       "      <td>1.344790</td>\n",
       "      <td>1.357989</td>\n",
       "      <td>1.382446</td>\n",
       "    </tr>\n",
       "    <tr>\n",
       "      <th>max</th>\n",
       "      <td>31.000000</td>\n",
       "      <td>12.000000</td>\n",
       "      <td>2015.000000</td>\n",
       "      <td>1.0</td>\n",
       "      <td>1.130645</td>\n",
       "      <td>1.251786</td>\n",
       "      <td>1.371820</td>\n",
       "      <td>1.403131</td>\n",
       "      <td>1.422619</td>\n",
       "      <td>1.416830</td>\n",
       "      <td>...</td>\n",
       "      <td>1.216830</td>\n",
       "      <td>1.295988</td>\n",
       "      <td>1.512068</td>\n",
       "      <td>1.692698</td>\n",
       "      <td>4.000000</td>\n",
       "      <td>1.0</td>\n",
       "      <td>6.744062</td>\n",
       "      <td>6.564526</td>\n",
       "      <td>9.389013</td>\n",
       "      <td>6.948186</td>\n",
       "    </tr>\n",
       "  </tbody>\n",
       "</table>\n",
       "<p>8 rows × 213 columns</p>\n",
       "</div>"
      ],
      "text/plain": [
       "               day        month         year  close1       close2  \\\n",
       "count  2420.000000  2420.000000  2420.000000  2420.0  2420.000000   \n",
       "mean     15.827686     6.598760  2010.596694     1.0     1.000400   \n",
       "std       8.758794     3.378029     2.824945     0.0     0.023444   \n",
       "min       1.000000     1.000000  2006.000000     1.0     0.799060   \n",
       "25%       8.000000     4.000000  2008.000000     1.0     0.988634   \n",
       "50%      16.000000     7.000000  2011.000000     1.0     1.000000   \n",
       "75%      23.000000     9.000000  2013.000000     1.0     1.012458   \n",
       "max      31.000000    12.000000  2015.000000     1.0     1.130645   \n",
       "\n",
       "            close3       close4       close5       close6       close7  \\\n",
       "count  2420.000000  2420.000000  2420.000000  2420.000000  2420.000000   \n",
       "mean      1.000799     1.001191     1.001525     1.001878     1.002201   \n",
       "std       0.033641     0.041435     0.047055     0.052056     0.056340   \n",
       "min       0.781609     0.721030     0.680437     0.612394     0.574686   \n",
       "25%       0.981553     0.977162     0.974541     0.970942     0.968135   \n",
       "50%       1.000000     1.000000     1.000938     1.001033     1.000854   \n",
       "75%       1.018640     1.023225     1.027251     1.029356     1.031764   \n",
       "max       1.251786     1.371820     1.403131     1.422619     1.416830   \n",
       "\n",
       "          ...               MA5          MA8         MA21         MA50  \\\n",
       "count     ...       2420.000000  2420.000000  2420.000000  2420.000000   \n",
       "mean      ...          1.000783     1.001311     1.003105     1.006347   \n",
       "std       ...          0.025925     0.034205     0.052738     0.077034   \n",
       "min       ...          0.830043     0.758409     0.800945     0.844419   \n",
       "25%       ...          0.985563     0.980498     0.969461     0.951452   \n",
       "50%       ...          1.000254     0.999838     0.996713     0.997288   \n",
       "75%       ...          1.014594     1.019410     1.031469     1.044716   \n",
       "max       ...          1.216830     1.295988     1.512068     1.692698   \n",
       "\n",
       "          week_day  volume1      volume2      volume3      volume4  \\\n",
       "count  2420.000000   2420.0  2420.000000  2420.000000  2420.000000   \n",
       "mean      1.995868      1.0     1.090639     1.112967     1.124177   \n",
       "std       1.409816      0.0     0.489919     0.566877     0.600116   \n",
       "min       0.000000      1.0     0.155512     0.214063     0.107376   \n",
       "25%       1.000000      1.0     0.757911     0.734696     0.725392   \n",
       "50%       2.000000      1.0     1.003922     0.990703     0.998705   \n",
       "75%       3.000000      1.0     1.316523     1.344790     1.357989   \n",
       "max       4.000000      1.0     6.744062     6.564526     9.389013   \n",
       "\n",
       "           volume5  \n",
       "count  2420.000000  \n",
       "mean      1.126649  \n",
       "std       0.609671  \n",
       "min       0.177112  \n",
       "25%       0.726525  \n",
       "50%       0.988535  \n",
       "75%       1.382446  \n",
       "max       6.948186  \n",
       "\n",
       "[8 rows x 213 columns]"
      ]
     },
     "execution_count": 10,
     "metadata": {},
     "output_type": "execute_result"
    }
   ],
   "source": [
    "X_all = df.drop(['index','close','low','high','open','volume'],1)\n",
    "\n",
    "X_all.describe()"
   ]
  },
  {
   "cell_type": "markdown",
   "metadata": {},
   "source": [
    "# Split the data\n",
    "Now that our data is good to go we will split the data to start to evaluate the problem. Since almost of 50% of the cases are good we will not worry about stratification, we will use the simple train_test_split."
   ]
  },
  {
   "cell_type": "code",
   "execution_count": 11,
   "metadata": {
    "collapsed": false
   },
   "outputs": [],
   "source": [
    "X_train, X_test, y_train, y_test = train_test_split(X_all,y_all, test_size = 0.25, random_state = RANDOM_SEED)"
   ]
  },
  {
   "cell_type": "markdown",
   "metadata": {},
   "source": [
    "# Feature selection\n",
    "We will use the PCA to evaluate the features and the sklearn.feature_selection.SelectKBest to evaluate the features considering the target values. The objective is to reduce it for a more reasonable number. In the moment we have 213 features. We will  reduce the number to components to 20."
   ]
  },
  {
   "cell_type": "code",
   "execution_count": 12,
   "metadata": {
    "collapsed": false
   },
   "outputs": [],
   "source": [
    "pca = PCA()\n",
    "pca.fit(X_train,y_train)\n",
    "#print pca.explained_variance_ratio_\n",
    "\n",
    "#ica = FastICA(max_iter=20000, tol=0.1, random_state = RANDOM_SEED)\n",
    "#ica.fit(X_train,y_train)\n",
    "\n",
    "skb = SelectKBest(f_classif,k=50)\n",
    "skb.fit(pca.transform(X_train),y_train)\n",
    "#print skb.scores_\n",
    "\n",
    "X_train_reduced = skb.transform(pca.transform(X_train))\n",
    "X_test_reduced = skb.transform(pca.transform(X_test))"
   ]
  },
  {
   "cell_type": "markdown",
   "metadata": {},
   "source": [
    "Note: First I started with PCA and k=20 in SelectKBest, as mentioned, but the results were not good. Trying to improve I included FastICA and increased the number of variables in the SelectKBest. It improved the performance."
   ]
  },
  {
   "cell_type": "markdown",
   "metadata": {},
   "source": [
    "# Defining the classifier\n",
    "Since we want to know if the stock will go up in a given day or not it is a classification problem. Considering the amount of data that we have, over 2000, we will use the Support Vector Classifier.\n",
    "\n",
    "For the classifier decision we are using the recommendation of the sklearn website, see image below:\n",
    "\n",
    "![sklearn map](http://scikit-learn.org/stable/_static/ml_map.png)\n",
    "\n",
    "Together with the classifier we will implement the GridSearchCV and the makescorer."
   ]
  },
  {
   "cell_type": "code",
   "execution_count": 13,
   "metadata": {
    "collapsed": false
   },
   "outputs": [
    {
     "name": "stderr",
     "output_type": "stream",
     "text": [
      "C:\\Users\\Ivan\\Anaconda2\\lib\\site-packages\\sklearn\\metrics\\classification.py:1074: UndefinedMetricWarning: Precision is ill-defined and being set to 0.0 due to no predicted samples.\n",
      "  'precision', 'predicted', average, warn_for)\n"
     ]
    },
    {
     "name": "stdout",
     "output_type": "stream",
     "text": [
      "SVC(C=10, cache_size=200, class_weight=None, coef0=0.0,\n",
      "  decision_function_shape=None, degree=2, gamma='auto', kernel='rbf',\n",
      "  max_iter=-1, probability=False, random_state=42, shrinking=True,\n",
      "  tol=0.001, verbose=False)\n",
      "0.606085830559\n",
      "The score in the training data was 0.6842.\n",
      "The score in the test data was 0.5152.\n"
     ]
    }
   ],
   "source": [
    "svc = SVC(random_state = RANDOM_SEED)\n",
    "\n",
    "parameters = {'kernel':('linear', 'poly', 'rbf', 'sigmoid'), 'C':[1, 1.5, 3, 5, 10], 'degree':[2,3,4]}\n",
    "\n",
    "precision_scorer = make_scorer(precision_score)\n",
    "\n",
    "clf = GridSearchCV(svc, parameters, scoring = precision_scorer)\n",
    "\n",
    "clf.fit(X_train_reduced, y_train)\n",
    "\n",
    "print(clf.best_estimator_)\n",
    "print(clf.best_score_)\n",
    "svc = clf.best_estimator_\n",
    "\n",
    "print(\"The score in the training data was %0.4f.\" % (precision_score(y_train,svc.predict(X_train_reduced))))\n",
    "print(\"The score in the test data was %0.4f.\" % (precision_score(y_test,svc.predict(X_test_reduced))))\n"
   ]
  },
  {
   "cell_type": "markdown",
   "metadata": {},
   "source": [
    "Since SVC is not working lets go to KNeighborsClassifier, as the map suggests."
   ]
  },
  {
   "cell_type": "code",
   "execution_count": 14,
   "metadata": {
    "collapsed": false
   },
   "outputs": [
    {
     "name": "stdout",
     "output_type": "stream",
     "text": [
      "KNeighborsClassifier(algorithm='auto', leaf_size=2, metric='minkowski',\n",
      "           metric_params=None, n_jobs=1, n_neighbors=64, p=2,\n",
      "           weights='uniform')\n",
      "0.504139984271\n",
      "The score in the training data was 0.5302.\n",
      "The score in the test data was 0.4879.\n"
     ]
    }
   ],
   "source": [
    "knc = KNeighborsClassifier()\n",
    "\n",
    "parameters = {'n_neighbors':[2,4,5,8,16,32,64], 'p':[2, 3], 'leaf_size':[2,5,10,20,30]}\n",
    "\n",
    "clf = GridSearchCV(knc, parameters, scoring = precision_scorer)\n",
    "\n",
    "clf.fit(X_train_reduced, y_train)\n",
    "\n",
    "print(clf.best_estimator_)\n",
    "print(clf.best_score_)\n",
    "knc = clf.best_estimator_\n",
    "\n",
    "print(\"The score in the training data was %0.4f.\" % (precision_score(y_train,knc.predict(X_train_reduced))))\n",
    "print(\"The score in the test data was %0.4f.\" % (precision_score(y_test,knc.predict(X_test_reduced))))"
   ]
  },
  {
   "cell_type": "markdown",
   "metadata": {},
   "source": [
    "KNeighborsClassifier also did not work well. Let's try 2 ensemble methods, AdaBoostClassifier and RandomForestClassifier."
   ]
  },
  {
   "cell_type": "code",
   "execution_count": null,
   "metadata": {
    "collapsed": false
   },
   "outputs": [],
   "source": [
    "abc = AdaBoostClassifier(random_state = RANDOM_SEED)\n",
    "\n",
    "parameters = {'algorithm':('SAMME','SAMME.R'), 'n_estimators':[10,30,50,80,120,300,500,800,1200], 'learning_rate':[0.1,0.5,1.0,1.5,2.0]}\n",
    "\n",
    "clf = GridSearchCV(abc, parameters, scoring = precision_scorer)\n",
    "\n",
    "clf.fit(X_train_reduced, y_train)\n",
    "\n",
    "print(clf.best_estimator_)\n",
    "print(clf.best_score_)\n",
    "abc = clf.best_estimator_\n",
    "\n",
    "print(\"The score in the training data was %0.4f.\" % (precision_score(y_train,abc.predict(X_train_reduced))))\n",
    "print(\"The score in the test data was %0.4f.\" % (precision_score(y_test,abc.predict(X_test_reduced))))"
   ]
  },
  {
   "cell_type": "code",
   "execution_count": null,
   "metadata": {
    "collapsed": false
   },
   "outputs": [],
   "source": [
    "rfc = RandomForestClassifier(n_jobs = -1, random_state = RANDOM_SEED)\n",
    "\n",
    "parameters = {'n_estimators':[10,30,50,80,120,300,500,800,1200], 'max_depth':[5,8,15,25,30,None],\n",
    "              'min_samples_split':[1,2,5,10,15,100], 'min_samples_leaf':[1,2,5,10], 'max_features':('sqrt','log2',None)}\n",
    "\n",
    "clf = GridSearchCV(rfc, parameters, scoring = precision_scorer)\n",
    "\n",
    "clf.fit(X_train_reduced, y_train)\n",
    "\n",
    "print(clf.best_estimator_)\n",
    "print(clf.best_score_)\n",
    "rfc = clf.best_estimator_\n",
    "\n",
    "print(\"The score in the training data was %0.4f.\" % (precision_score(y_train,rfc.predict(X_train_reduced))))\n",
    "print(\"The score in the test data was %0.4f.\" % (precision_score(y_test,rfc.predict(X_test_reduced))))"
   ]
  },
  {
   "cell_type": "code",
   "execution_count": null,
   "metadata": {
    "collapsed": true
   },
   "outputs": [],
   "source": []
  }
 ],
 "metadata": {
  "anaconda-cloud": {},
  "kernelspec": {
   "display_name": "Python [Root]",
   "language": "python",
   "name": "Python [Root]"
  },
  "language_info": {
   "codemirror_mode": {
    "name": "ipython",
    "version": 2
   },
   "file_extension": ".py",
   "mimetype": "text/x-python",
   "name": "python",
   "nbconvert_exporter": "python",
   "pygments_lexer": "ipython2",
   "version": "2.7.12"
  }
 },
 "nbformat": 4,
 "nbformat_minor": 0
}
